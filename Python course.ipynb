{
 "cells": [
  {
   "cell_type": "code",
   "execution_count": 1,
   "id": "8c4956a3",
   "metadata": {},
   "outputs": [
    {
     "name": "stdout",
     "output_type": "stream",
     "text": [
      "hello\n",
      "3\n",
      "7\n",
      "hello 7\n"
     ]
    }
   ],
   "source": [
    "print(\"hello\")\n",
    "print(3)\n",
    "print(3+4)\n",
    "print(\"hello\",7)"
   ]
  },
  {
   "cell_type": "code",
   "execution_count": 4,
   "id": "e3d8167e",
   "metadata": {},
   "outputs": [
    {
     "name": "stdout",
     "output_type": "stream",
     "text": [
      "bye-6-7009\n",
      "bye/6/7#"
     ]
    }
   ],
   "source": [
    "print(\"bye\",6,7,sep=\"-\",end=\"009\\n\")\n",
    "print(\"bye\",6,7,sep=\"/\",end=\"#\")#sep=\"-\" is the symbol which will seperate all the elements \n",
    "#end=\"009\" this is something with which your print statement will end."
   ]
  },
  {
   "cell_type": "code",
   "execution_count": 6,
   "id": "b1580afe",
   "metadata": {},
   "outputs": [
    {
     "name": "stdout",
     "output_type": "stream",
     "text": [
      "<class 'int'>\n",
      "<class 'bool'>\n",
      "<class 'str'>\n"
     ]
    }
   ],
   "source": [
    "a=1\n",
    "b=True\n",
    "c=\"jhny\"\n",
    "print(type(a))\n",
    "print(type(b))\n",
    "print(type(c))"
   ]
  },
  {
   "cell_type": "code",
   "execution_count": 7,
   "id": "11174b83",
   "metadata": {},
   "outputs": [],
   "source": [
    "list1=[2,\"harry\",[2,3],0.9,\"hi\",78] #mutable--can be modified\n",
    "tuple1=(2,\"harry\",0.9,\"hi\",78) #immutable\n",
    "dict2={\"hi\":\"hello\",2:\"don\"} #collection of key-value pairs"
   ]
  },
  {
   "cell_type": "code",
   "execution_count": 8,
   "id": "c5c27952",
   "metadata": {},
   "outputs": [
    {
     "name": "stdout",
     "output_type": "stream",
     "text": [
      "(2+8j)\n"
     ]
    }
   ],
   "source": [
    "d=complex(2,8)\n",
    "print(d)"
   ]
  },
  {
   "cell_type": "code",
   "execution_count": 9,
   "id": "c73de3c7",
   "metadata": {},
   "outputs": [
    {
     "name": "stdout",
     "output_type": "stream",
     "text": [
      "2\n"
     ]
    }
   ],
   "source": [
    "print(15//6)"
   ]
  },
  {
   "cell_type": "code",
   "execution_count": 10,
   "id": "e41d75f7",
   "metadata": {},
   "outputs": [
    {
     "name": "stdout",
     "output_type": "stream",
     "text": [
      "2.5\n"
     ]
    }
   ],
   "source": [
    "print(15/6)"
   ]
  },
  {
   "cell_type": "code",
   "execution_count": 11,
   "id": "5d29ae08",
   "metadata": {},
   "outputs": [
    {
     "name": "stdout",
     "output_type": "stream",
     "text": [
      "8\n"
     ]
    }
   ],
   "source": [
    "print(2**3) #exponential operator"
   ]
  },
  {
   "cell_type": "code",
   "execution_count": 12,
   "id": "5c0b53a3",
   "metadata": {},
   "outputs": [
    {
     "name": "stdout",
     "output_type": "stream",
     "text": [
      "12\n",
      "3\n"
     ]
    }
   ],
   "source": [
    "#typecasting -- changing one data type to another\n",
    "\n",
    "a=\"1\"\n",
    "b=\"2\"\n",
    "#here both a and b are strings. \n",
    "print(a+b) #So here concatenation of strings will take place and hence the output will be 12 and not 3.\n",
    "print(int(a)+int(b)) #here first a and b both are ocnverted into integers and then they are added.\n",
    "#explicit typecasting -- explicitly we have converted string to integer"
   ]
  },
  {
   "cell_type": "code",
   "execution_count": 13,
   "id": "56c26e27",
   "metadata": {},
   "outputs": [
    {
     "name": "stdout",
     "output_type": "stream",
     "text": [
      "10.8\n"
     ]
    }
   ],
   "source": [
    "#all the data types in python are not at the same level . So when operations are to be carried out lower level of data type\n",
    "#is converted into higher level of data type automatically and then the operation is performed.\n",
    "a=1.8\n",
    "b=9\n",
    "print(a+b)\n",
    "#so here 9 which is an integer is converted into float and then added to 1.8"
   ]
  },
  {
   "cell_type": "code",
   "execution_count": 14,
   "id": "8cb3ae84",
   "metadata": {},
   "outputs": [
    {
     "name": "stdout",
     "output_type": "stream",
     "text": [
      "enter your namepranjal\n",
      "your name is  pranjal\n"
     ]
    }
   ],
   "source": [
    "name=input(\"enter your name\") #whatever we give as an input here is considered to be a string .\n",
    "print(\"your name is \",name)"
   ]
  },
  {
   "cell_type": "code",
   "execution_count": 15,
   "id": "148bd826",
   "metadata": {},
   "outputs": [
    {
     "name": "stdout",
     "output_type": "stream",
     "text": [
      "enter first number23\n",
      "enter second number34\n",
      "2334\n",
      "57\n"
     ]
    }
   ],
   "source": [
    "num1=input(\"enter first number\")\n",
    "num2=input(\"enter second number\")\n",
    "#so here even if we give numbers as an input --then also it is considered to be a string only.\n",
    "\n",
    "print(num1+num2) #here concatenation will take place\n",
    "print(int(num1)+int(num2)) #here first conversion and then addition"
   ]
  },
  {
   "cell_type": "code",
   "execution_count": 16,
   "id": "461330a3",
   "metadata": {},
   "outputs": [
    {
     "name": "stdout",
     "output_type": "stream",
     "text": [
      "heyy\n",
      "how are you\n",
      "what are you doing\n"
     ]
    }
   ],
   "source": [
    "#strings in python\n",
    "friend=\"pranjal\"  #this is a string--we can write between \" \" or ' ' or ''' '''\n",
    "friend1='''heyy\n",
    "how are you\n",
    "what are you doing'''\n",
    "\n",
    "print(friend1) #this will print the content as it is ...with line spacing ,new line and everything"
   ]
  },
  {
   "cell_type": "code",
   "execution_count": 17,
   "id": "d0c7d4ef",
   "metadata": {},
   "outputs": [
    {
     "name": "stdout",
     "output_type": "stream",
     "text": [
      "h\n",
      "e\n",
      "y\n",
      "y\n",
      "\n",
      "\n",
      "h\n",
      "o\n",
      "w\n",
      " \n",
      "a\n",
      "r\n",
      "e\n",
      " \n",
      "y\n",
      "o\n",
      "u\n",
      "\n",
      "\n",
      "w\n",
      "h\n",
      "a\n",
      "t\n",
      " \n",
      "a\n",
      "r\n",
      "e\n",
      " \n",
      "y\n",
      "o\n",
      "u\n",
      " \n",
      "d\n",
      "o\n",
      "i\n",
      "n\n",
      "g\n"
     ]
    }
   ],
   "source": [
    "for j in friend1:  #printing all the characters with spaces \n",
    "   print(j)"
   ]
  },
  {
   "cell_type": "code",
   "execution_count": 20,
   "id": "720e0a07",
   "metadata": {},
   "outputs": [
    {
     "name": "stdout",
     "output_type": "stream",
     "text": [
      "7\n",
      "pran\n",
      "pranj\n",
      "ranja\n",
      "ra\n",
      "ja\n"
     ]
    }
   ],
   "source": [
    "#slicing of strings:\n",
    "str=\"pranjal\"\n",
    "print(len(str))\n",
    "print(str[0:4]) #0,1,2,3\n",
    "print(str[:5]) #0,1,2,3,4 bydefault the start is zero\n",
    "print(str[1:6]) #1,2,3,4,5\n",
    "print(str[1:-4]) #print(str[1:len(str)-4]) ==print(str[1:3]) 1,2\n",
    "print(str[-3:-1]) #print(str[len(str)-3:len(str)-1]) ==print(str[4:6]) 4,5"
   ]
  },
  {
   "cell_type": "code",
   "execution_count": 23,
   "id": "688b6d59",
   "metadata": {},
   "outputs": [
    {
     "name": "stdout",
     "output_type": "stream",
     "text": [
      "!!!PRANJAL!!!!!!!!\n",
      "priyal\n",
      "!!!pranjal\n",
      "!!!pranjal!!!!!!!!\n",
      "PriYAl\n"
     ]
    }
   ],
   "source": [
    "#string methods\n",
    "#strings are immutable -they cannot be changed \n",
    "a=\"!!!pranjal!!!!!!!!\"\n",
    "b=\"PriYAl\"\n",
    "print(a.upper())\n",
    "print(b.lower())\n",
    "print(a.rstrip(\"!\")) #it will strip all the trailing ! \n",
    "print(a) #a has not been changed\n",
    "print(b)"
   ]
  },
  {
   "cell_type": "code",
   "execution_count": 28,
   "id": "6d6a3a9a",
   "metadata": {},
   "outputs": [
    {
     "name": "stdout",
     "output_type": "stream",
     "text": [
      "hi This is prAnjal\n",
      "['hello', 'This', 'is', 'prAnjal']\n",
      "Hello this is pranjal\n"
     ]
    }
   ],
   "source": [
    "line=\"hello This is prAnjal\"\n",
    "print(line.replace(\"hello\",\"hi\")) #this will replace all the occurences of hello by hi\n",
    "print(line.split()) #this converts a string into list. all the words seperated by space become different elements of the list\n",
    "print(line.capitalize()) #this will turn the first character of thestring into uppercase and all other characters to lower case"
   ]
  },
  {
   "cell_type": "code",
   "execution_count": 29,
   "id": "4d224658",
   "metadata": {},
   "outputs": [
    {
     "name": "stdout",
     "output_type": "stream",
     "text": [
      "0\n"
     ]
    }
   ],
   "source": [
    "print(line.count(\"this\")) \n",
    "#this tells us how many times \"this\" occurs in the the string. So in this case uppercase -lowercase also matters"
   ]
  },
  {
   "cell_type": "code",
   "execution_count": 30,
   "id": "9a098679",
   "metadata": {},
   "outputs": [
    {
     "name": "stdout",
     "output_type": "stream",
     "text": [
      "True\n"
     ]
    }
   ],
   "source": [
    "print(line.endswith(\"jal\")) #this checks whether the string ends with jal or not"
   ]
  },
  {
   "cell_type": "code",
   "execution_count": 31,
   "id": "a058970f",
   "metadata": {},
   "outputs": [
    {
     "name": "stdout",
     "output_type": "stream",
     "text": [
      "True\n"
     ]
    }
   ],
   "source": [
    "print(line.endswith(\"is\",4,10)) #this checks whether 4,5,6,7,8,9 elements of string end with is or not\n",
    "print(line.startswith(\"is\",4,10)) "
   ]
  },
  {
   "cell_type": "code",
   "execution_count": 33,
   "id": "af151407",
   "metadata": {},
   "outputs": [
    {
     "name": "stdout",
     "output_type": "stream",
     "text": [
      "8\n"
     ]
    },
    {
     "ename": "ValueError",
     "evalue": "substring not found",
     "output_type": "error",
     "traceback": [
      "\u001b[1;31m---------------------------------------------------------------------------\u001b[0m",
      "\u001b[1;31mValueError\u001b[0m                                Traceback (most recent call last)",
      "Cell \u001b[1;32mIn[33], line 3\u001b[0m\n\u001b[0;32m      1\u001b[0m \u001b[38;5;28mprint\u001b[39m(line\u001b[38;5;241m.\u001b[39mfind(\u001b[38;5;124m\"\u001b[39m\u001b[38;5;124mis\u001b[39m\u001b[38;5;124m\"\u001b[39m)) \u001b[38;5;66;03m#returns the index of the first occurence of \"is\" in the string\u001b[39;00m\n\u001b[0;32m      2\u001b[0m \u001b[38;5;66;03m#if not found then it returns -1\u001b[39;00m\n\u001b[1;32m----> 3\u001b[0m \u001b[38;5;28mprint\u001b[39m(\u001b[43mline\u001b[49m\u001b[38;5;241;43m.\u001b[39;49m\u001b[43mindex\u001b[49m\u001b[43m(\u001b[49m\u001b[38;5;124;43m\"\u001b[39;49m\u001b[38;5;124;43mlow\u001b[39;49m\u001b[38;5;124;43m\"\u001b[39;49m\u001b[43m)\u001b[49m)\n",
      "\u001b[1;31mValueError\u001b[0m: substring not found"
     ]
    }
   ],
   "source": [
    "print(line.find(\"is\")) #returns the index of the first occurence of \"is\" in the string\n",
    "#if not found then it returns -1\n",
    "print(line.index(\"low\")) #returns the index of the first occurence of \"low\" in the string\n",
    "#if not found then it throws an error"
   ]
  },
  {
   "cell_type": "code",
   "execution_count": 40,
   "id": "ece721f6",
   "metadata": {},
   "outputs": [
    {
     "name": "stdout",
     "output_type": "stream",
     "text": [
      "False\n",
      "False\n",
      "False\n",
      "False\n",
      "True\n",
      "True\n",
      "False\n",
      "False\n"
     ]
    }
   ],
   "source": [
    "lin1=\" \"\n",
    "\n",
    "print(line.isalnum()) #this returns true if our string is made up of only A-Z,a-z, 0-9 \n",
    "#if any other characters are found then it returns false.\n",
    "#So in this case it returns false because there are spaces in the string\n",
    "\n",
    "print(line.isalpha()) #this returns true if our string is made up of only A-Z,a-z\n",
    "#if any other characters are found then it returns false.\n",
    "\n",
    "print(line.islower()) ##this returns true if all the characters of string are in lower case\n",
    "print(line.isupper())\n",
    "\n",
    "print(line.isspace()) ##this returns true if there are only whitespaces in the string. --so this will return false\n",
    "print(lin1.isspace()) #and this returns true\n",
    "\n",
    "print(line.isprintable()) #this will return true if all the characters are printable \n",
    "\n",
    "lin2=\"byd ubytu\\n buyf\"\n",
    "print(lin2.isprintable()) #this will return false as \\n is not printable\n",
    "\n",
    "print(line.istitle()) #this will return true only if the first letter of all the words are capitalized"
   ]
  },
  {
   "cell_type": "code",
   "execution_count": 41,
   "id": "aa17d5f7",
   "metadata": {},
   "outputs": [
    {
     "name": "stdout",
     "output_type": "stream",
     "text": [
      "HELLO tHIS IS PRaNJAL\n"
     ]
    }
   ],
   "source": [
    "print(line.swapcase()) #converts lowercase to uppercase and vice versa"
   ]
  },
  {
   "cell_type": "code",
   "execution_count": 43,
   "id": "b55b585c",
   "metadata": {},
   "outputs": [
    {
     "name": "stdout",
     "output_type": "stream",
     "text": [
      "Hello This Is Pranjal\n"
     ]
    }
   ],
   "source": [
    "print(line.title()) #this will capitalize the first letter of each and every word and convert all other letters to lower case"
   ]
  },
  {
   "cell_type": "code",
   "execution_count": 44,
   "id": "6619a2f0",
   "metadata": {},
   "outputs": [
    {
     "name": "stdout",
     "output_type": "stream",
     "text": [
      "yayy\n"
     ]
    }
   ],
   "source": [
    "a=56\n",
    "\n",
    "if(a>18):\n",
    "    print(\"yayy\")\n",
    "else:\n",
    "    print(\"nooo\")"
   ]
  },
  {
   "cell_type": "code",
   "execution_count": 45,
   "id": "16401085",
   "metadata": {},
   "outputs": [],
   "source": [
    "import time"
   ]
  },
  {
   "cell_type": "code",
   "execution_count": 48,
   "id": "0bf362a2",
   "metadata": {},
   "outputs": [
    {
     "name": "stdout",
     "output_type": "stream",
     "text": [
      "19:54:32\n"
     ]
    }
   ],
   "source": [
    "timestamp=time.strftime('%H:%M:%S') #this is a string\n",
    "print(timestamp)"
   ]
  },
  {
   "cell_type": "code",
   "execution_count": 49,
   "id": "768549e8",
   "metadata": {},
   "outputs": [
    {
     "name": "stdout",
     "output_type": "stream",
     "text": [
      "19\n"
     ]
    }
   ],
   "source": [
    "hour=time.strftime('%H') #hour is a string\n",
    "print(hour)"
   ]
  },
  {
   "cell_type": "code",
   "execution_count": 50,
   "id": "9172e728",
   "metadata": {},
   "outputs": [
    {
     "name": "stdout",
     "output_type": "stream",
     "text": [
      "56\n",
      "44\n"
     ]
    }
   ],
   "source": [
    "min=time.strftime('%M')\n",
    "print(min)\n",
    "sec=time.strftime('%S')\n",
    "print(sec)"
   ]
  },
  {
   "cell_type": "code",
   "execution_count": 2,
   "id": "7c5a8ba3",
   "metadata": {},
   "outputs": [
    {
     "name": "stdout",
     "output_type": "stream",
     "text": [
      "enter a number45\n",
      "hello\n"
     ]
    }
   ],
   "source": [
    "#match case statements (similar to switch case statemets in c++ but not exactly the same bcoa in python \n",
    "#if any one case gets satisfied next cases will not even be checked and hence not executed Also there is \n",
    "#no need of break statement for every case in python as when any case gets matched automatically the program ends )\n",
    "\n",
    "x=int(input(\"enter a number\"))\n",
    "\n",
    "match x:\n",
    "    case 2:\n",
    "        print(\"you have entered 2\")\n",
    "    case 4:\n",
    "        print(\"4\")\n",
    "#     case x<78:  #we cannot write like this\n",
    "#         print(\"hehe\") \n",
    "    case _ if x<56:   #this is  a default case\n",
    "        print(\"hello\")\n",
    "    case _ if x!=89:\n",
    "        print(\"hii\")\n",
    "    case _:         #if no above condition is satisfied then this case is matched\n",
    "        print(\"nothing\")"
   ]
  },
  {
   "cell_type": "code",
   "execution_count": 3,
   "id": "3e11c6ac",
   "metadata": {},
   "outputs": [
    {
     "name": "stdout",
     "output_type": "stream",
     "text": [
      "red\n",
      "r\n",
      "e\n",
      "d\n",
      "black\n",
      "b\n",
      "l\n",
      "a\n",
      "c\n",
      "k\n",
      "yellow\n",
      "y\n",
      "e\n",
      "l\n",
      "l\n",
      "o\n",
      "w\n"
     ]
    }
   ],
   "source": [
    "colors=[\"red\",\"black\",\"yellow\"]\n",
    "\n",
    "for color in colors:\n",
    "    print(color)\n",
    "    for i in color:\n",
    "        print(i)"
   ]
  },
  {
   "cell_type": "code",
   "execution_count": 4,
   "id": "95cd558b",
   "metadata": {},
   "outputs": [
    {
     "name": "stdout",
     "output_type": "stream",
     "text": [
      "0\n",
      "1\n",
      "2\n",
      "3\n",
      "4\n",
      "5\n",
      "6\n"
     ]
    }
   ],
   "source": [
    " for k in range(7): #range(7) means 0,1,2,3,4,5,6\n",
    "    print(k)\n"
   ]
  },
  {
   "cell_type": "code",
   "execution_count": 6,
   "id": "53813598",
   "metadata": {},
   "outputs": [
    {
     "name": "stdout",
     "output_type": "stream",
     "text": [
      "2\n",
      "3\n",
      "4\n",
      "5\n",
      "6\n"
     ]
    }
   ],
   "source": [
    "\n",
    "for k in range(2,7): #range(2,7) means 2,3,4,5,6\n",
    "    print(k)"
   ]
  },
  {
   "cell_type": "code",
   "execution_count": 9,
   "id": "fdadb554",
   "metadata": {},
   "outputs": [
    {
     "name": "stdout",
     "output_type": "stream",
     "text": [
      "2\n",
      "5\n",
      "8\n",
      "11\n",
      "14\n",
      "17\n"
     ]
    }
   ],
   "source": [
    "for k in range(2,20,3):\n",
    "    #third argument is the step i.e the interval in which we want the numbers to be printed\n",
    "    print(k)"
   ]
  },
  {
   "cell_type": "code",
   "execution_count": 1,
   "id": "05f05645",
   "metadata": {},
   "outputs": [
    {
     "name": "stdout",
     "output_type": "stream",
     "text": [
      "6\n",
      "7\n",
      "8\n",
      "9\n",
      "10\n",
      "11\n",
      "12\n"
     ]
    }
   ],
   "source": [
    "#while loops in python:\n",
    "\n",
    "i=6\n",
    "while(i<13): #while loop is executed until the condition is true\n",
    "    print(i)\n",
    "    i=i+1"
   ]
  },
  {
   "cell_type": "code",
   "execution_count": 2,
   "id": "eb7408c7",
   "metadata": {},
   "outputs": [
    {
     "name": "stdout",
     "output_type": "stream",
     "text": [
      "6\n",
      "7\n",
      "8\n",
      "9\n",
      "10\n",
      "11\n",
      "12\n",
      "out of the loop\n"
     ]
    }
   ],
   "source": [
    "i=6\n",
    "while(i<13): #while loop is executed until the condition is true\n",
    "    print(i)\n",
    "    i=i+1\n",
    "else:\n",
    "    print(\"out of the loop\")\n",
    "    \n",
    "#when the condition is false python interpreter comes out of the loop and executes the else statement"
   ]
  },
  {
   "cell_type": "code",
   "execution_count": 3,
   "id": "9f52219f",
   "metadata": {},
   "outputs": [
    {
     "name": "stdout",
     "output_type": "stream",
     "text": [
      "1\n",
      "2\n",
      "3\n",
      "4\n",
      "bye\n"
     ]
    }
   ],
   "source": [
    "#break and continue statements \n",
    "#break == leave the loop \n",
    "#continue== leave the iteration \n",
    "\n",
    "for i in range(1,7):\n",
    "    if(i==5):\n",
    "        print(\"bye\") #so when i==5 break statement will be executed and hence python will exit from the loop and hence \n",
    "                     #further numbers are not printed\n",
    "        break\n",
    "    print(i)"
   ]
  },
  {
   "cell_type": "code",
   "execution_count": 4,
   "id": "9774768f",
   "metadata": {},
   "outputs": [
    {
     "name": "stdout",
     "output_type": "stream",
     "text": [
      "1\n",
      "2\n",
      "3\n",
      "4\n",
      "bye\n",
      "6\n"
     ]
    }
   ],
   "source": [
    "\n",
    "for i in range(1,7):\n",
    "    if(i==5):\n",
    "        print(\"bye\") #so when i==5 continue statement will be executed and hence python will skip the \n",
    "                     #iteration and go back to the for statement \n",
    "        continue\n",
    "    print(i)"
   ]
  },
  {
   "cell_type": "code",
   "execution_count": 7,
   "id": "3502082b",
   "metadata": {},
   "outputs": [
    {
     "name": "stdout",
     "output_type": "stream",
     "text": [
      "17\n"
     ]
    }
   ],
   "source": [
    "#user defined functions:\n",
    "\n",
    "def sumof(a,b): #def =keyword sumof= function-name a&b are two arguments\n",
    "    sum=a+b\n",
    "    print(sum)\n",
    "    \n",
    "a=8\n",
    "b=9\n",
    "sumof(a,b)\n",
    "\n",
    "def mul(a,b):  #when we want to write the function definition later on we will just write pass\n",
    "    pass\n",
    "    "
   ]
  },
  {
   "cell_type": "code",
   "execution_count": 14,
   "id": "bebf5426",
   "metadata": {},
   "outputs": [
    {
     "name": "stdout",
     "output_type": "stream",
     "text": [
      "10\n",
      "10\n",
      "17\n",
      "14\n",
      "14\n"
     ]
    }
   ],
   "source": [
    "#default argumnets\n",
    "\n",
    "def sumof(a=8,b=5): #a=8 and b=5 are default values of a and b i.e when values of a and b are not given by default values \n",
    "                    #8 and 5 are taken.\n",
    "    sum=a+b\n",
    "    print(sum)\n",
    "    \n",
    "sumof(5) #here a=5 is passes and as value of b is not passed it is taken to be 5 by default\n",
    "sumof(3,7) #here both the values are passed and hence default values are ignored\n",
    "sumof(b=9) #here default value of a is taken\n",
    "\n",
    "sumof(b=8,a=6) #when we explicitly metion the value of arguments like this --order doesnt matter\n",
    "\n",
    "#if default arguments are not passed then we have to pass those while calling the function.\n",
    "\n",
    "def sumof1(a,b=9): \n",
    "    sum=a+b\n",
    "    print(sum)\n",
    "    \n",
    "#always default arguments should follow non-default arguments.\n",
    "    \n",
    "#in the above function value of a must be passed-it is a required argument.\n",
    "sumof1(5)\n",
    "    \n",
    "    "
   ]
  },
  {
   "cell_type": "code",
   "execution_count": 17,
   "id": "4104a37b",
   "metadata": {},
   "outputs": [
    {
     "name": "stdout",
     "output_type": "stream",
     "text": [
      "<class 'tuple'>\n",
      "14\n"
     ]
    }
   ],
   "source": [
    "def average(*numbers):\n",
    "    sum=0\n",
    "    print(type(numbers))\n",
    "    for i in numbers:\n",
    "        sum=sum+i\n",
    "    print(sum)\n",
    "    \n",
    "average(4,8,2)\n",
    "\n",
    "#here numbers is a tuple "
   ]
  },
  {
   "cell_type": "code",
   "execution_count": 22,
   "id": "b57ca58e",
   "metadata": {},
   "outputs": [
    {
     "name": "stdout",
     "output_type": "stream",
     "text": [
      "hello pranjal vanjale\n"
     ]
    }
   ],
   "source": [
    "def nameof(**name):  #here name is a dictionary\n",
    "    print(\"hello\",name[\"fname\"],name[\"lname\"]) #fname and lname are the keys of the dictionary\n",
    "    \n",
    "nameof(fname=\"pranjal\",lname=\"vanjale\") #function call with arguments as key-value pairs"
   ]
  },
  {
   "cell_type": "code",
   "execution_count": 24,
   "id": "06b88347",
   "metadata": {},
   "outputs": [
    {
     "name": "stdout",
     "output_type": "stream",
     "text": [
      "7\n"
     ]
    }
   ],
   "source": [
    "marks=[2,5,7,6,3,8,9,2]\n",
    "print(marks[-1]) #this is same as marks[len(marks)-1] ==marks[2]"
   ]
  },
  {
   "cell_type": "code",
   "execution_count": 25,
   "id": "343ec346",
   "metadata": {},
   "outputs": [
    {
     "name": "stdout",
     "output_type": "stream",
     "text": [
      "yes\n"
     ]
    }
   ],
   "source": [
    "if 2 in marks:\n",
    "    print(\"yes\")\n",
    "else:\n",
    "    print(\"no\")"
   ]
  },
  {
   "cell_type": "code",
   "execution_count": 32,
   "id": "6df8d80a",
   "metadata": {},
   "outputs": [
    {
     "name": "stdout",
     "output_type": "stream",
     "text": [
      "[5, 7, 6, 3, 8, 9, 2]\n",
      "[5, 6, 8, 2]\n",
      "[5, 3, 2]\n",
      "[7, 6, 3, 8, 9, 2]\n"
     ]
    }
   ],
   "source": [
    "#slicing in lists is exactly same as that in strings\n",
    "marks=[2,5,7,6,3,8,9,2]\n",
    "print(marks[1:8]) #will print elements with index 1,2,3,4,5,6,7\n",
    "print(marks[1:8:2]) #will print elements with index 1,3,5,7 bcoz jump index is 2\n",
    "print(marks[1:8:3]) #will print elements with index 1,4,7 bcoz jump index is 3\n",
    "print(marks[2:]) #by default the end is len i.e this is equivalent to print(marks[2:8])\n",
    "#by default jump index is 1"
   ]
  },
  {
   "cell_type": "code",
   "execution_count": 35,
   "id": "c3f783df",
   "metadata": {},
   "outputs": [
    {
     "name": "stdout",
     "output_type": "stream",
     "text": [
      "[0, 1, 4, 9, 16]\n",
      "[0, 4, 16, 36, 64]\n"
     ]
    }
   ],
   "source": [
    "#creation of list\n",
    "lst=[i*i for i in range(5)] #i=0,1,2,3,4\n",
    "print(lst)\n",
    "\n",
    "lst=[i*i for i in range(10) if (i%2)==0] #i=0,2,4,6,8\n",
    "print(lst)"
   ]
  },
  {
   "cell_type": "code",
   "execution_count": 42,
   "id": "914b0798",
   "metadata": {},
   "outputs": [
    {
     "name": "stdout",
     "output_type": "stream",
     "text": [
      "[2, 4, 6, 8, 9]\n",
      "[9, 8, 6, 4, 2]\n",
      "4\n",
      "1\n"
     ]
    }
   ],
   "source": [
    "#list methods\n",
    "lst=[2,8,4,6,9]\n",
    "lst.sort() #arranges the list in ascending order --note that here original list changes.\n",
    "print(lst)\n",
    "\n",
    "lst.reverse()\n",
    "print(lst)\n",
    "\n",
    "print(lst.index(2)) #this returns the index of first occurence of 2\n",
    "print(lst.count(2)) #this returns the no. of times 2 occurs in the given list"
   ]
  },
  {
   "cell_type": "code",
   "execution_count": 43,
   "id": "7bca1206",
   "metadata": {},
   "outputs": [
    {
     "name": "stdout",
     "output_type": "stream",
     "text": [
      "[8, 5, 4, 2, 1]\n"
     ]
    }
   ],
   "source": [
    "lst=[4,2,8,5,1]\n",
    "lst.sort(reverse=True) ##arranges the list in descending order --note that here original list changes.\n",
    "print(lst)"
   ]
  },
  {
   "cell_type": "code",
   "execution_count": 45,
   "id": "6fe4be3b",
   "metadata": {},
   "outputs": [
    {
     "name": "stdout",
     "output_type": "stream",
     "text": [
      "[8, 5, 4, 2, 1, 4, 4]\n"
     ]
    }
   ],
   "source": [
    "lst.append(4) #adds 4 at the end of the list\n",
    "print(lst)"
   ]
  },
  {
   "cell_type": "code",
   "execution_count": 46,
   "id": "1cb7a497",
   "metadata": {},
   "outputs": [
    {
     "name": "stdout",
     "output_type": "stream",
     "text": [
      "[4, 7, 3, 2]\n",
      "[4, 7, 3, 2]\n"
     ]
    }
   ],
   "source": [
    "list1=[4,7,6,2]\n",
    "m=list1\n",
    "m[2]=3\n",
    "print(m)\n",
    "print(list1) \n",
    "#So what we observe is changes are made in both the lists --which is quite surprising So in order to avoid this\n",
    "#and make changes only in one list which is m we need to make a copy of list1"
   ]
  },
  {
   "cell_type": "code",
   "execution_count": 47,
   "id": "1ffdb333",
   "metadata": {},
   "outputs": [
    {
     "name": "stdout",
     "output_type": "stream",
     "text": [
      "[4, 6, 3, 8]\n",
      "[4, 6, 2, 8]\n"
     ]
    }
   ],
   "source": [
    "list1=[4,6,2,8]\n",
    "m=list1.copy()\n",
    "m[2]=3\n",
    "print(m) #only changes to m are made\n",
    "print(list1) #list1 remains as it is "
   ]
  },
  {
   "cell_type": "code",
   "execution_count": 51,
   "id": "1a76f7df",
   "metadata": {},
   "outputs": [
    {
     "name": "stdout",
     "output_type": "stream",
     "text": [
      "[3, 23, 5, 7]\n"
     ]
    }
   ],
   "source": [
    "l=[3,5,7]\n",
    "\n",
    "l.insert(1,23) #this will insert 23 at index 1 of l --note that changes are made to the list\n",
    "print(l)"
   ]
  },
  {
   "cell_type": "code",
   "execution_count": 53,
   "id": "9faf9453",
   "metadata": {},
   "outputs": [
    {
     "name": "stdout",
     "output_type": "stream",
     "text": [
      "[2, 3, 4, 3, 23, 5, 7]\n"
     ]
    }
   ],
   "source": [
    "l1=[2,3,4]\n",
    "l1.extend(l) #this will join list l to l1 --l1 list will be changed\n",
    "print(l1)"
   ]
  },
  {
   "cell_type": "code",
   "execution_count": 54,
   "id": "db444e56",
   "metadata": {},
   "outputs": [
    {
     "name": "stdout",
     "output_type": "stream",
     "text": [
      "[2, 3, 4, 2, 6, 5]\n"
     ]
    }
   ],
   "source": [
    "l1=[2,3,4]\n",
    "l2=[2,6,5]\n",
    "k=l1+l2 #this is how we concatnate two lists -- note that l1 and l2 remain as it is \n",
    "print(k)"
   ]
  },
  {
   "cell_type": "code",
   "execution_count": 58,
   "id": "03cac3a8",
   "metadata": {},
   "outputs": [
    {
     "name": "stdout",
     "output_type": "stream",
     "text": [
      "(5, 4, 8, 9, 5)\n"
     ]
    }
   ],
   "source": [
    "#tuples and list are exactly the same except that ki tuple cannot be changed at all\n",
    "#if we want to change tuple we first need to change it into list and then apply the list methods\n",
    "#one example is given below\n",
    "\n",
    "tup=(5,4,8,9)\n",
    "temp=list(tup)\n",
    "temp.append(5)\n",
    "tup=tuple(temp)\n",
    "print(tup)"
   ]
  },
  {
   "cell_type": "code",
   "execution_count": 59,
   "id": "e27905d7",
   "metadata": {},
   "outputs": [
    {
     "name": "stdout",
     "output_type": "stream",
     "text": [
      "1\n"
     ]
    }
   ],
   "source": [
    "print(tup.count(4))"
   ]
  },
  {
   "cell_type": "code",
   "execution_count": 61,
   "id": "0594e363",
   "metadata": {},
   "outputs": [
    {
     "name": "stdout",
     "output_type": "stream",
     "text": [
      "1\n"
     ]
    }
   ],
   "source": [
    "print(tup.index(4)) #returns the index of first occurence of 4 in the whole tuple"
   ]
  },
  {
   "cell_type": "code",
   "execution_count": 66,
   "id": "c341aadb",
   "metadata": {},
   "outputs": [
    {
     "name": "stdout",
     "output_type": "stream",
     "text": [
      "0\n",
      "4\n",
      "14\n"
     ]
    }
   ],
   "source": [
    "tup1=(2,7,9,13,2,1,1,0,3,6,2,7,8,1)\n",
    "print(tup1.index(2)) #returns the index of first occurence of 2 in the whole tuple\n",
    "print(tup1.index(2,2,8)) #returns the index of first occurence of 2 in the part of tuple whose index is 2 to 8\n",
    "print(len(tup1))"
   ]
  },
  {
   "cell_type": "code",
   "execution_count": 67,
   "id": "b47251e6",
   "metadata": {},
   "outputs": [
    {
     "name": "stdout",
     "output_type": "stream",
     "text": [
      "hii\n"
     ]
    }
   ],
   "source": [
    "x=3\n",
    "y=5\n",
    "if(x>3 and y<8):  #here we directly write and, or --we dont have any symbols like && or ||\n",
    "    print(\"hello\")\n",
    "elif(x<3 or y<=8):\n",
    "    print(\"hii\")\n"
   ]
  },
  {
   "cell_type": "code",
   "execution_count": 81,
   "id": "df44290a",
   "metadata": {},
   "outputs": [
    {
     "name": "stdout",
     "output_type": "stream",
     "text": [
      "my name is {} and i am from {}\n",
      "my name is pranjal and i am from india\n",
      "my name is {name} pranjal and i am from india\n"
     ]
    }
   ],
   "source": [
    "#f-strings in python\n",
    "name=\"pranjal\"\n",
    "country=\"india\"\n",
    "letter=\"my name is {} and i am from {}\"\n",
    "print(letter)\n",
    "print(letter.format(name,country))\n",
    "print(f\"my name is {{name}} {name} and i am from {country}\")"
   ]
  },
  {
   "cell_type": "code",
   "execution_count": 77,
   "id": "72887792",
   "metadata": {},
   "outputs": [
    {
     "name": "stdout",
     "output_type": "stream",
     "text": [
      "price is 23.89076\n",
      "price is 23.89\n"
     ]
    }
   ],
   "source": [
    "price1=23.89076\n",
    "print(f\"price is {price1}\")\n",
    "print(f\"price is {price1:.2f}\") #this will truncate down the decimals to 2 digits after decimal point"
   ]
  },
  {
   "cell_type": "code",
   "execution_count": 80,
   "id": "1af4bff9",
   "metadata": {},
   "outputs": [
    {
     "name": "stdout",
     "output_type": "stream",
     "text": [
      "60\n",
      "<class 'str'>\n"
     ]
    }
   ],
   "source": [
    "print(f\"{2*30}\") #here 60 which is printed is a string variable\n",
    "print(type(f\"{2*30}\"))"
   ]
  },
  {
   "cell_type": "code",
   "execution_count": 87,
   "id": "252062fd",
   "metadata": {},
   "outputs": [
    {
     "name": "stdout",
     "output_type": "stream",
     "text": [
      "hello 9\n",
      "hello this is pranjal\n",
      "hello 9\n",
      "None\n"
     ]
    }
   ],
   "source": [
    "# docstrings in python: statement written just after function name or something which is written just\n",
    "# before function definition\n",
    "\n",
    "def func(n):\n",
    "    '''hello this is pranjal''' #this is not a comment but then it is a docstring.\n",
    "    print(\"hello\",n)\n",
    "\n",
    "func(9) #here the docstring wont be printed --it will be considered as a comment\n",
    "print(func.__doc__) #this will only print the docstring\n",
    "print(func(9).__doc__)\n"
   ]
  },
  {
   "cell_type": "code",
   "execution_count": 89,
   "id": "4883c769",
   "metadata": {},
   "outputs": [
    {
     "name": "stdout",
     "output_type": "stream",
     "text": [
      "9\n",
      "hello 9\n",
      "None\n",
      "9\n",
      "hello 9\n",
      "None\n"
     ]
    }
   ],
   "source": [
    "def func(n):\n",
    "    print(n)\n",
    "    '''hello this is pranjal''' #this is a comment and not a docstring and hence wont be printed at all\n",
    "    print(\"hello\",n)\n",
    "\n",
    "func(9) #here the docstring wont be printed --it will be considered as a comment --prints 9 and hello 9\n",
    "print(func.__doc__) #this will only print the docstring --prints None\n",
    "print(func(9).__doc__) #prints 9 hello 9 none\n",
    "\n"
   ]
  },
  {
   "cell_type": "code",
   "execution_count": 90,
   "id": "172c971a",
   "metadata": {},
   "outputs": [],
   "source": [
    "#PEP 8- python enhancement proposal-document that provides guidlines to improve readability and consistency of python code.\n",
    "#it describes all the new features proposed for python.\n",
    "#when you write import this in terminal -- zen of python is printed."
   ]
  },
  {
   "cell_type": "code",
   "execution_count": 91,
   "id": "607180d4",
   "metadata": {},
   "outputs": [],
   "source": [
    "#recursive functions --functions which call themselves in their function definition itself"
   ]
  },
  {
   "cell_type": "code",
   "execution_count": 92,
   "id": "d3500095",
   "metadata": {},
   "outputs": [],
   "source": [
    "#sets -- no repeated values \n",
    "#list and tuples can have repeated values"
   ]
  },
  {
   "cell_type": "code",
   "execution_count": 96,
   "id": "3c4c6057",
   "metadata": {},
   "outputs": [
    {
     "name": "stdout",
     "output_type": "stream",
     "text": [
      "{2, 3, 4, 6}\n",
      "2\n",
      "3\n",
      "4\n",
      "6\n"
     ]
    }
   ],
   "source": [
    "s={2,4,6,3,2} #sets cannot be changed once created\n",
    "#sets are unordered\n",
    "print(s)\n",
    "\n",
    "for i in s:\n",
    "    print(i)"
   ]
  },
  {
   "cell_type": "code",
   "execution_count": 95,
   "id": "9b3867a5",
   "metadata": {},
   "outputs": [
    {
     "name": "stdout",
     "output_type": "stream",
     "text": [
      "<class 'dict'>\n",
      "set()\n"
     ]
    }
   ],
   "source": [
    "s1={}#this is not an empty set --rather it is an empty dictionary\n",
    "print(type(s1))\n",
    "\n",
    "s2=set() #this is how u create an empty set\n",
    "print(s2)"
   ]
  },
  {
   "cell_type": "code",
   "execution_count": 99,
   "id": "981f0a34",
   "metadata": {},
   "outputs": [
    {
     "name": "stdout",
     "output_type": "stream",
     "text": [
      "{2, 3, 4, 5, 6, 7, 8}\n",
      "{2, 3, 5, 6, 8} {2, 3, 4, 7}\n",
      "{2, 3, 4, 5, 6, 7, 8} {2, 3, 4, 7}\n"
     ]
    }
   ],
   "source": [
    "#set methods:\n",
    "\n",
    "set1={2,5,3,6,8,2}\n",
    "set2={4,7,2,3,4}\n",
    "\n",
    "print(set1.union(set2)) #this doesnt change the value of set1 and set 2\n",
    "print(set1,set2)\n",
    "\n",
    "set1.update(set2) #this updates set1 with set1 union set2 similarly set2.update(set1) updates set2 with set1 union set2\n",
    "print(set1,set2)"
   ]
  },
  {
   "cell_type": "code",
   "execution_count": 100,
   "id": "0cc37dda",
   "metadata": {},
   "outputs": [
    {
     "name": "stdout",
     "output_type": "stream",
     "text": [
      "{9, 7}\n",
      "{8, 9, 2, 7} {1, 3, 9, 7}\n",
      "{9, 7} {1, 3, 9, 7}\n"
     ]
    }
   ],
   "source": [
    "ss1={2,9,8,7}\n",
    "ss2={3,7,1,9}\n",
    "\n",
    "print(ss1.intersection(ss2)) #this doesnt change the value of ss1 and ss 2\n",
    "print(ss1,ss2)\n",
    "\n",
    "ss1.intersection_update(ss2) #this updates ss1 with ss1 intersection ss2 similarly ss2.intersection_update(ss1)\n",
    "#updates ss2 with ss1 intersection ss2\n",
    "print(ss1,ss2)"
   ]
  },
  {
   "cell_type": "code",
   "execution_count": 101,
   "id": "a7c47a53",
   "metadata": {},
   "outputs": [
    {
     "name": "stdout",
     "output_type": "stream",
     "text": [
      "{1, 2, 3, 8}\n",
      "{8, 9, 2, 7} {1, 3, 9, 7}\n",
      "{1, 2, 3, 8} {1, 3, 9, 7}\n"
     ]
    }
   ],
   "source": [
    "sss1={2,9,8,7}\n",
    "sss2={3,7,1,9}\n",
    "\n",
    "print(sss1.symmetric_difference(sss2))  #symmetric_difference is everything which is not common to both the sets\n",
    "print(sss1,sss2)\n",
    "\n",
    "sss1.symmetric_difference_update(sss2) \n",
    "print(sss1,sss2)"
   ]
  },
  {
   "cell_type": "code",
   "execution_count": 102,
   "id": "684c7851",
   "metadata": {},
   "outputs": [
    {
     "name": "stdout",
     "output_type": "stream",
     "text": [
      "{8, 2}\n",
      "{8, 9, 2, 7} {1, 3, 9, 7}\n",
      "{2, 8} {1, 3, 9, 7}\n"
     ]
    }
   ],
   "source": [
    "ssss1={2,9,8,7}\n",
    "ssss2={3,7,1,9}\n",
    "\n",
    "print(ssss1.difference(ssss2))  #difference of A and B is simply A-B i.e A-(A intersection B)\n",
    "print(ssss1,ssss2)\n",
    "\n",
    "ssss1.difference_update(ssss2) \n",
    "print(ssss1,ssss2)"
   ]
  },
  {
   "cell_type": "code",
   "execution_count": 110,
   "id": "b6a75cb1",
   "metadata": {},
   "outputs": [
    {
     "name": "stdout",
     "output_type": "stream",
     "text": [
      "False\n",
      "False\n",
      "False\n",
      "{0, 2, 3, 4, 7}\n",
      "{0, 2, 3, 4}\n",
      "0\n"
     ]
    }
   ],
   "source": [
    "num1={2,3,7,4}\n",
    "num2={3,9,7,8}\n",
    "print(num1.isdisjoint(num2))#this prints true if num1 and num2 are disjoint sets and prints false if they are not\n",
    "print(num1.issuperset(num2))#this prints true if num1 is superset of num2 and prints false if num1 is not the superset of num2\n",
    "print(num1.issubset(num2))#this prints true if num1 is subset of num2 and prints false if num1 is not the subset of num2\n",
    "\n",
    "\n",
    "#disjoint sets are those which do not have anything in common\n",
    "\n",
    "num1.add(0) #add method is sed to add one element to the set\n",
    "print(num1)\n",
    "\n",
    "num1.remove(7) \n",
    "#this removes the given element from the set and if the given element is not present in the set then it throws error.\n",
    "\n",
    "num1.discard(7)\n",
    "#this removes the given element from the set and even if the given element is not present in the set  it doesnt throw error.\n",
    "print(num1)\n",
    "\n",
    "print(num1.pop()) #this prints a random element of the set"
   ]
  },
  {
   "cell_type": "code",
   "execution_count": 113,
   "id": "43930ab4",
   "metadata": {},
   "outputs": [
    {
     "ename": "NameError",
     "evalue": "name 'num1' is not defined",
     "output_type": "error",
     "traceback": [
      "\u001b[1;31m---------------------------------------------------------------------------\u001b[0m",
      "\u001b[1;31mNameError\u001b[0m                                 Traceback (most recent call last)",
      "Cell \u001b[1;32mIn[113], line 3\u001b[0m\n\u001b[0;32m      1\u001b[0m \u001b[38;5;66;03m#del and clear\u001b[39;00m\n\u001b[1;32m----> 3\u001b[0m \u001b[38;5;28;01mdel\u001b[39;00m num1\n",
      "\u001b[1;31mNameError\u001b[0m: name 'num1' is not defined"
     ]
    }
   ],
   "source": [
    "#del and clear\n",
    "\n",
    "del num1 #this will delete the entire set whereas num1.clear() will delete all the items from the set but\n",
    "#the set will still exist --it will now become an empty set\n",
    "# print(num1) --this will throw an error"
   ]
  },
  {
   "cell_type": "code",
   "execution_count": 114,
   "id": "2b10abae",
   "metadata": {},
   "outputs": [
    {
     "name": "stdout",
     "output_type": "stream",
     "text": [
      "8\n",
      "9\n",
      "3\n",
      "7\n"
     ]
    }
   ],
   "source": [
    "for i in num2:\n",
    "    print(i)"
   ]
  },
  {
   "cell_type": "code",
   "execution_count": 115,
   "id": "e4de5b6d",
   "metadata": {},
   "outputs": [],
   "source": [
    "dic={\n",
    "    \"name\":\"pranjal\",\n",
    "    234:\"neha\",\n",
    "    \"eligible\":True,\n",
    "    \"Roll no\":23\n",
    "}"
   ]
  },
  {
   "cell_type": "code",
   "execution_count": 122,
   "id": "2876e7ce",
   "metadata": {},
   "outputs": [
    {
     "name": "stdout",
     "output_type": "stream",
     "text": [
      "{'name': 'pranjal', 234: 'neha', 'eligible': True, 'Roll no': 23}\n",
      "pranjal\n",
      "neha\n",
      "None\n",
      "dict_keys(['name', 234, 'eligible', 'Roll no'])\n",
      "dict_values(['pranjal', 'neha', True, 23])\n",
      "dict_items([('name', 'pranjal'), (234, 'neha'), ('eligible', True), ('Roll no', 23)])\n",
      "\n",
      "The value of key name is pranjal\n",
      "\n",
      "The value of key 234 is neha\n",
      "\n",
      "The value of key eligible is True\n",
      "\n",
      "The value of key Roll no is 23\n",
      "\n",
      "The value of key name is pranjal\n",
      "\n",
      "The value of key 234 is neha\n",
      "\n",
      "The value of key eligible is True\n",
      "\n",
      "The value of key Roll no is 23\n"
     ]
    }
   ],
   "source": [
    "print(dic)\n",
    "print(dic[\"name\"]) #this prints the value of the key given\n",
    "print(dic[234])\n",
    "\n",
    "# print(dic[\"name1\"]) this will throw an error as there is no key called name1\n",
    "print(dic.get(\"name1\")) #this will print none as there is no key called name1\n",
    "\n",
    "print(dic.keys())\n",
    "print(dic.values())\n",
    "print(dic.items())\n",
    "\n",
    "for key in dic.keys():\n",
    "    print(f\"\\nThe value of key {key} is {dic[key]}\")\n",
    "    \n",
    "for key,value in dic.items():\n",
    "    print(\"\\n\"f\"The value of key {key} is {value}\")\n",
    "    \n",
    "#dictionary is ordered"
   ]
  },
  {
   "cell_type": "code",
   "execution_count": 125,
   "id": "f74b2e41",
   "metadata": {},
   "outputs": [
    {
     "name": "stdout",
     "output_type": "stream",
     "text": [
      "{'pranjal': 'nice', 234: 456, 'bhavya': 'good', 'roll': 23}\n",
      "{}\n",
      "{'pranjal': 'nice', 'bhavya': 'good', 'roll': 23}\n"
     ]
    }
   ],
   "source": [
    "#dictionary methods:\n",
    "\n",
    "dic1={\n",
    "    \"pranjal\":\"nice\",\n",
    "    234:\"neha\"\n",
    "}\n",
    "\n",
    "dic2={\n",
    "    \"bhavya\":\"good\",\n",
    "    234:456,\n",
    "    \"roll\":23\n",
    "}\n",
    "\n",
    "dic1.update(dic2) #dic1 changes to dic1 + dic2\n",
    "print(dic1)\n",
    "\n",
    "dic2.clear() #this clears all the items from dic2--> so it will convert dic2 into an empty dictionary\n",
    "print(dic2)\n",
    "\n",
    "#del dic2 -- this will delete the dictionary as a whole.\n",
    "\n",
    "dic1.pop(234) #pop method removes the key-value pair which is passed as an argument\n",
    "print(dic1)\n",
    "\n",
    "#del dic1[234] --removes the key-value pair which is passed as an argument i.e key value pair of 234 is removed from the dictionary\n",
    "\n",
    "dic1.popitem() #this will remove the last key-value pair from the dictionary"
   ]
  },
  {
   "cell_type": "code",
   "execution_count": 126,
   "id": "9b552656",
   "metadata": {},
   "outputs": [
    {
     "name": "stdout",
     "output_type": "stream",
     "text": [
      "0\n",
      "1\n",
      "2\n",
      "3\n",
      "hello\n"
     ]
    }
   ],
   "source": [
    "#loops with else statement:\n",
    "\n",
    "for i in range(4):\n",
    "    print(i)\n",
    "    \n",
    "else:\n",
    "    print(\"hello\")"
   ]
  },
  {
   "cell_type": "code",
   "execution_count": 128,
   "id": "43828d4a",
   "metadata": {},
   "outputs": [
    {
     "name": "stdout",
     "output_type": "stream",
     "text": [
      "0\n",
      "1\n",
      "2\n"
     ]
    }
   ],
   "source": [
    "for i in range(4):\n",
    "    print(i)\n",
    "    if(i==2):\n",
    "        break\n",
    "    \n",
    "else:\n",
    "    print(\"hello\")\n",
    "    \n",
    "#in this case else statement is not executed bcoz the loop breaks.So basically else is executed only when the loop has been \n",
    "#successfully and completely executed and it is not executed when the loop breaks.\n",
    "\n",
    "#else can also be used with while loop"
   ]
  },
  {
   "cell_type": "code",
   "execution_count": 131,
   "id": "d734888a",
   "metadata": {},
   "outputs": [
    {
     "name": "stdout",
     "output_type": "stream",
     "text": [
      "enter a numberghj\n",
      "multiplication table of ghj\n"
     ]
    },
    {
     "ename": "ValueError",
     "evalue": "invalid literal for int() with base 10: 'ghj'",
     "output_type": "error",
     "traceback": [
      "\u001b[1;31m---------------------------------------------------------------------------\u001b[0m",
      "\u001b[1;31mValueError\u001b[0m                                Traceback (most recent call last)",
      "Cell \u001b[1;32mIn[131], line 7\u001b[0m\n\u001b[0;32m      4\u001b[0m \u001b[38;5;28mprint\u001b[39m(\u001b[38;5;124mf\u001b[39m\u001b[38;5;124m\"\u001b[39m\u001b[38;5;124mmultiplication table of \u001b[39m\u001b[38;5;132;01m{\u001b[39;00ma\u001b[38;5;132;01m}\u001b[39;00m\u001b[38;5;124m\"\u001b[39m)\n\u001b[0;32m      6\u001b[0m \u001b[38;5;28;01mfor\u001b[39;00m i \u001b[38;5;129;01min\u001b[39;00m \u001b[38;5;28mrange\u001b[39m(\u001b[38;5;241m1\u001b[39m,\u001b[38;5;241m11\u001b[39m):\n\u001b[1;32m----> 7\u001b[0m     \u001b[38;5;28mprint\u001b[39m(\u001b[38;5;124mf\u001b[39m\u001b[38;5;124m\"\u001b[39m\u001b[38;5;132;01m{\u001b[39;00ma\u001b[38;5;132;01m}\u001b[39;00m\u001b[38;5;124mX\u001b[39m\u001b[38;5;132;01m{\u001b[39;00mi\u001b[38;5;132;01m}\u001b[39;00m\u001b[38;5;124m=\u001b[39m\u001b[38;5;132;01m{\u001b[39;00m\u001b[38;5;28mint\u001b[39m(a)\u001b[38;5;241m*\u001b[39mi\u001b[38;5;132;01m}\u001b[39;00m\u001b[38;5;124m\"\u001b[39m)\n\u001b[0;32m      9\u001b[0m \u001b[38;5;28mprint\u001b[39m(\u001b[38;5;124m\"\u001b[39m\u001b[38;5;124mhello\u001b[39m\u001b[38;5;124m\"\u001b[39m)\n\u001b[0;32m     10\u001b[0m \u001b[38;5;28mprint\u001b[39m(\u001b[38;5;124m\"\u001b[39m\u001b[38;5;124mhow r you\u001b[39m\u001b[38;5;124m\"\u001b[39m)\n",
      "\u001b[1;31mValueError\u001b[0m: invalid literal for int() with base 10: 'ghj'"
     ]
    }
   ],
   "source": [
    "#exception handling --> way to handle unexpected error in a code\n",
    "\n",
    "a=input(\"enter a number\")\n",
    "print(f\"multiplication table of {a}\")\n",
    "\n",
    "for i in range(1,11):\n",
    "    print(f\"{a}X{i}={int(a)*i}\")\n",
    "    \n",
    "print(\"hello\")\n",
    "print(\"how r you\")\n",
    "\n",
    "#now a possible error in this case can occur if the user doesn't enter a number and instead enters a string maybe,Bcoz in this\n",
    "#case- for loop will give an error and hence the program will end, hence not executing the last two statements.\n",
    "\n",
    "#so in order to avoid that we do exception handling --try and except statements\n"
   ]
  },
  {
   "cell_type": "code",
   "execution_count": 136,
   "id": "d2fe64f6",
   "metadata": {},
   "outputs": [
    {
     "name": "stdout",
     "output_type": "stream",
     "text": [
      "enter a numberghj\n",
      "multiplication table of ghj\n",
      "invalid literal for int() with base 10: 'ghj'\n",
      "hello\n",
      "how r you\n"
     ]
    }
   ],
   "source": [
    "\n",
    "a=input(\"enter a number\")\n",
    "print(f\"multiplication table of {a}\")\n",
    "try:\n",
    "    for i in range(1,11):\n",
    "        print(f\"{a}X{i}={int(a)*i}\")\n",
    "    \n",
    "# except:\n",
    "#     print(\"error\")\n",
    "except Exception as e:\n",
    "    print(e) #this will print the error\n",
    "    \n",
    "print(\"hello\")\n",
    "print(\"how r you\")\n",
    "\n",
    "# so in this case if the user doesnt enter a number for loop will not be executed and hence except statement will get executed.\n",
    "# and the program continues without giving any kind of error"
   ]
  },
  {
   "cell_type": "code",
   "execution_count": 138,
   "id": "393a8063",
   "metadata": {},
   "outputs": [
    {
     "name": "stdout",
     "output_type": "stream",
     "text": [
      "enter a number1\n",
      "3\n"
     ]
    }
   ],
   "source": [
    "#we can use multiple except statements to handle different types of error:\n",
    "a=input(\"enter a number\")\n",
    "try:\n",
    "    num=int(a) \n",
    "    l=[2,3]\n",
    "    print(l[num])\n",
    "    \n",
    "except ValueError:  #this error occurs when instead of entering a number --> string or any other datatype is entered which cannot be converted into integer\n",
    "    print(\"number is not entered\")\n",
    "    \n",
    "except IndexError: #this error occurs when number is entered but an invalid index\n",
    "    print(\"wrong index is entered\")\n",
    " "
   ]
  },
  {
   "cell_type": "code",
   "execution_count": 143,
   "id": "aa68100f",
   "metadata": {},
   "outputs": [
    {
     "name": "stdout",
     "output_type": "stream",
     "text": [
      "enter a number2\n",
      "4\n",
      "i will be executed always\n",
      "1\n"
     ]
    }
   ],
   "source": [
    "def func():\n",
    "    try:\n",
    "        l=[2,3,4,5]\n",
    "        i=int(input(\"enter a number\"))\n",
    "        print(l[i])\n",
    "        return 1\n",
    "    except:\n",
    "        print(\"error\")\n",
    "    finally:\n",
    "        print(\"i will be executed always\") #finally is executed always no matter whether try or except is executed \n",
    "    \n",
    "x=func()\n",
    "print(x) #this will print none if nothing is returned\n"
   ]
  },
  {
   "cell_type": "code",
   "execution_count": 144,
   "id": "060c5bf5",
   "metadata": {},
   "outputs": [
    {
     "name": "stdout",
     "output_type": "stream",
     "text": [
      "enter a number2\n",
      "4\n",
      "1\n"
     ]
    }
   ],
   "source": [
    "def func():\n",
    "    try:\n",
    "        l=[2,3,4,5]\n",
    "        i=int(input(\"enter a number\"))\n",
    "        print(l[i])\n",
    "        return 1\n",
    "    except:\n",
    "        print(\"error\")\n",
    "   \n",
    "    print(\"i will be executed always\") \n",
    "    \n",
    "x=func()\n",
    "print(x) #this will print none if nothing is returned\n"
   ]
  },
  {
   "cell_type": "code",
   "execution_count": 148,
   "id": "bd99b0ea",
   "metadata": {},
   "outputs": [
    {
     "name": "stdout",
     "output_type": "stream",
     "text": [
      "enter a number5\n",
      "error\n",
      "i will be executed always\n"
     ]
    }
   ],
   "source": [
    "try:\n",
    "    l=[2,3,4,5]\n",
    "    i=int(input(\"enter a number\"))\n",
    "    print(l[i])\n",
    "   \n",
    "       \n",
    "except:\n",
    "    print(\"error\")\n",
    "print(\"i will be executed always\") \n",
    "    \n",
    "    \n",
    "    \n",
    "   \n",
    " "
   ]
  },
  {
   "cell_type": "code",
   "execution_count": 155,
   "id": "1979083a",
   "metadata": {},
   "outputs": [
    {
     "name": "stdout",
     "output_type": "stream",
     "text": [
      "enter any number between 1 and 57\n"
     ]
    },
    {
     "ename": "ValueError",
     "evalue": "number should be between  1 and 5",
     "output_type": "error",
     "traceback": [
      "\u001b[1;31m---------------------------------------------------------------------------\u001b[0m",
      "\u001b[1;31mValueError\u001b[0m                                Traceback (most recent call last)",
      "Cell \u001b[1;32mIn[155], line 7\u001b[0m\n\u001b[0;32m      4\u001b[0m b\u001b[38;5;241m=\u001b[39m\u001b[38;5;28mint\u001b[39m(a)\n\u001b[0;32m      6\u001b[0m \u001b[38;5;28;01mif\u001b[39;00m(b\u001b[38;5;241m<\u001b[39m\u001b[38;5;241m1\u001b[39m \u001b[38;5;129;01mor\u001b[39;00m b\u001b[38;5;241m>\u001b[39m\u001b[38;5;241m5\u001b[39m):\n\u001b[1;32m----> 7\u001b[0m     \u001b[38;5;28;01mraise\u001b[39;00m \u001b[38;5;167;01mValueError\u001b[39;00m(\u001b[38;5;124m\"\u001b[39m\u001b[38;5;124mnumber should be between  1 and 5\u001b[39m\u001b[38;5;124m\"\u001b[39m)\n",
      "\u001b[1;31mValueError\u001b[0m: number should be between  1 and 5"
     ]
    }
   ],
   "source": [
    "#raising custom errors -- i.e we can raise errors where we want in our program\n",
    "\n",
    "a=input(\"enter any number between 1 and 5\")\n",
    "b=int(a)\n",
    "\n",
    "if(b<1 or b>5):\n",
    "    raise ValueError(\"number should be between  1 and 5\") #raise is a keyword\n",
    "\n",
    "    #ValueError is a built in error "
   ]
  },
  {
   "cell_type": "code",
   "execution_count": 156,
   "id": "8c590327",
   "metadata": {},
   "outputs": [
    {
     "ename": "IndentationError",
     "evalue": "expected an indented block after 'try' statement on line 20 (2190240849.py, line 22)",
     "output_type": "error",
     "traceback": [
      "\u001b[1;36m  Cell \u001b[1;32mIn[156], line 22\u001b[1;36m\u001b[0m\n\u001b[1;33m    except CustomError:\u001b[0m\n\u001b[1;37m    ^\u001b[0m\n\u001b[1;31mIndentationError\u001b[0m\u001b[1;31m:\u001b[0m expected an indented block after 'try' statement on line 20\n"
     ]
    }
   ],
   "source": [
    "#we can use multiple except statements to handle different types of error:\n",
    "# a=input(\"enter a number\")\n",
    "# try:\n",
    "#     num=int(a) \n",
    "#     l=[2,3]\n",
    "#     print(l[num])\n",
    "    \n",
    "# except ValueError: \n",
    "#     print(\"number is not entered\")\n",
    "    \n",
    "# except IndexError:\n",
    "#     print(\"wrong index is entered\")\n",
    "\n",
    "#ValueError, IndexError are built in errors but we can also define our own custom errors and use that for exception:\n",
    "\n",
    "class CustomError(Exception): #here we are defining a new Custom Class which is derived from a built in exception class\n",
    "    #code\n",
    "    pass\n",
    "\n",
    "try:\n",
    "#  code\n",
    "except CustomError: \n",
    "#    code\n"
   ]
  },
  {
   "cell_type": "code",
   "execution_count": 160,
   "id": "23905935",
   "metadata": {},
   "outputs": [
    {
     "name": "stdout",
     "output_type": "stream",
     "text": [
      "23\n",
      "45\n",
      "67\n",
      "31\n",
      "hello\n",
      "24\n",
      "68\n",
      "(0, 'apple')\n",
      "(1, 'orange')\n",
      "(2, 'banana')\n",
      "(3, 'grapes')\n",
      "(1, 'apple')\n",
      "(2, 'orange')\n",
      "(3, 'banana')\n",
      "(4, 'grapes')\n"
     ]
    }
   ],
   "source": [
    "#enumerate function in python:\n",
    "\n",
    "marks=[23,45,67,31,24,68] #list of marks\n",
    "\n",
    "# index=0\n",
    "\n",
    "# for mark in marks:\n",
    "#     print(mark)\n",
    "#     if(index==3):\n",
    "#         print(\"hello\")\n",
    "#     index=index+1\n",
    "\n",
    "#above same thing can be achieved much simply by using enumerate function which returns both index and value of an element in the list\n",
    "\n",
    "for index,mark in enumerate(marks):\n",
    "    print(mark)\n",
    "    if(index==3):\n",
    "         print(\"hello\")\n",
    "            \n",
    "fruits=[\"apple\",\"orange\",\"banana\",\"grapes\"]\n",
    "\n",
    "for v in enumerate(fruits):\n",
    "    print(v)  #this is a tuple containing index-value pair.\n",
    "    \n",
    "for v in enumerate(fruits,start=1):  #by passing the start argument to enumerate function we can change the starting index of a list\n",
    "    print(v)  #this is a tuple containing index-value pair.\n",
    "    \n",
    "  "
   ]
  },
  {
   "cell_type": "code",
   "execution_count": 162,
   "id": "37158ccd",
   "metadata": {},
   "outputs": [
    {
     "name": "stdout",
     "output_type": "stream",
     "text": [
      "3.0\n"
     ]
    }
   ],
   "source": [
    "#importing python modules:\n",
    "import math\n",
    "import pandas\n",
    "\n",
    "print(math.sqrt(9))"
   ]
  },
  {
   "cell_type": "code",
   "execution_count": 164,
   "id": "281d9b6f",
   "metadata": {},
   "outputs": [
    {
     "name": "stdout",
     "output_type": "stream",
     "text": [
      "9.42477796076938\n"
     ]
    }
   ],
   "source": [
    "#another method:\n",
    "#in this we can import only specific functions that we want from the math module:\n",
    "\n",
    "from math import sqrt,pi\n",
    "\n",
    "print(sqrt(9)*pi)"
   ]
  },
  {
   "cell_type": "code",
   "execution_count": 165,
   "id": "46080bbc",
   "metadata": {},
   "outputs": [
    {
     "name": "stdout",
     "output_type": "stream",
     "text": [
      "3.0\n"
     ]
    }
   ],
   "source": [
    "#method to import all the functions from math module:\n",
    "#this is not a recommended approach.\n",
    "#as if we import all the functions from many such modules --and suppose for eg that pi is imported from two such modules\n",
    "#then while using it can create confusion.\n",
    "\n",
    "from math import *  \n",
    " \n",
    "print(sqrt(9))"
   ]
  },
  {
   "cell_type": "code",
   "execution_count": 166,
   "id": "2ebf7fad",
   "metadata": {},
   "outputs": [
    {
     "name": "stdout",
     "output_type": "stream",
     "text": [
      "3.0\n"
     ]
    }
   ],
   "source": [
    "import math as m  #as keyword is used so that we can write the code in short.\n",
    "\n",
    "print(m.sqrt(9))"
   ]
  },
  {
   "cell_type": "code",
   "execution_count": 167,
   "id": "e3a277dc",
   "metadata": {},
   "outputs": [
    {
     "name": "stdout",
     "output_type": "stream",
     "text": [
      "3.0\n"
     ]
    }
   ],
   "source": [
    "from math import sqrt as s\n",
    "\n",
    "print(s(9))"
   ]
  },
  {
   "cell_type": "code",
   "execution_count": 168,
   "id": "1ccd9115",
   "metadata": {},
   "outputs": [
    {
     "name": "stdout",
     "output_type": "stream",
     "text": [
      "['__doc__', '__loader__', '__name__', '__package__', '__spec__', 'acos', 'acosh', 'asin', 'asinh', 'atan', 'atan2', 'atanh', 'ceil', 'comb', 'copysign', 'cos', 'cosh', 'degrees', 'dist', 'e', 'erf', 'erfc', 'exp', 'expm1', 'fabs', 'factorial', 'floor', 'fmod', 'frexp', 'fsum', 'gamma', 'gcd', 'hypot', 'inf', 'isclose', 'isfinite', 'isinf', 'isnan', 'isqrt', 'lcm', 'ldexp', 'lgamma', 'log', 'log10', 'log1p', 'log2', 'modf', 'nan', 'nextafter', 'perm', 'pi', 'pow', 'prod', 'radians', 'remainder', 'sin', 'sinh', 'sqrt', 'tan', 'tanh', 'tau', 'trunc', 'ulp']\n"
     ]
    }
   ],
   "source": [
    "print(dir(math))  #dir function prints all the functions and variables present in the math module"
   ]
  },
  {
   "cell_type": "code",
   "execution_count": 171,
   "id": "9f77b7c3",
   "metadata": {},
   "outputs": [
    {
     "name": "stdout",
     "output_type": "stream",
     "text": [
      "harry is a Software developer\n",
      "sam is a CA\n",
      "pranjal is a hr\n"
     ]
    }
   ],
   "source": [
    "#classes and objects in python \n",
    "#class--user defined datatype and object  is a variable of that datatype\n",
    "\n",
    "class Person:  #defining a class named person\n",
    "    name=\"pranjal\"  #class variables\n",
    "    occupation=\"hr\"\n",
    "    \n",
    "    def info(self):  #class methods\n",
    "        print(f\"{self.name} is a {self.occupation}\")\n",
    "              \n",
    "a=Person()  #creating objects\n",
    "b=Person()\n",
    "c=Person()\n",
    "\n",
    "a.name=\"harry\" #changing tyhe values of the object\n",
    "a.occupation=\"Software developer\"  \n",
    "\n",
    "b.name=\"sam\"\n",
    "b.occupation=\"CA\"     \n",
    "              \n",
    "a.info() \n",
    "b.info()\n",
    "c.info()"
   ]
  },
  {
   "cell_type": "code",
   "execution_count": 176,
   "id": "ef4ff5ba",
   "metadata": {},
   "outputs": [
    {
     "name": "stdout",
     "output_type": "stream",
     "text": [
      "heyy\n",
      "info is called\n"
     ]
    }
   ],
   "source": [
    "#constructors in python:these are special methods which are called automatically when the objects are created.\n",
    "#There is no need of calling these functions explicitly.\n",
    "\n",
    "class Details:\n",
    "    def __init__(self): #this is a default constructor --self is a bydefault argument.\n",
    "        print(\"heyy\")\n",
    "        \n",
    "    def info(self):  #this is a method of class details\n",
    "        print(\"info is called\")\n",
    "        \n",
    "a=Details() #so now constructor will be called and heyy will be printed.\n",
    "a.info()\n"
   ]
  },
  {
   "cell_type": "code",
   "execution_count": 180,
   "id": "149d04ad",
   "metadata": {},
   "outputs": [
    {
     "name": "stdout",
     "output_type": "stream",
     "text": [
      "heyy\n",
      "harry,developer\n"
     ]
    }
   ],
   "source": [
    "class Details:\n",
    "    def __init__(self,name,occ): #this is a parametrized constructor --self is a bydefault argument and other two arguments \n",
    "                                 #which are passed are name and occ\n",
    "        print(\"heyy\")\n",
    "        self.name=name\n",
    "        self.occ=occ\n",
    "        \n",
    "    def info(self):  #this is a method of class details\n",
    "        print(f\"{self.name},{self.occ}\")\n",
    "        \n",
    "a=Details(\"harry\",\"developer\") #so now constructor will be called. #self argument is passed bydefault.\n",
    "a.info()\n",
    "\n",
    "#constructors always return null value"
   ]
  },
  {
   "cell_type": "code",
   "execution_count": 185,
   "id": "f989800e",
   "metadata": {},
   "outputs": [
    {
     "name": "stdout",
     "output_type": "stream",
     "text": [
      "hello\n",
      "good morning\n",
      "bye\n"
     ]
    }
   ],
   "source": [
    "#python decorator : \n",
    "#it is a function which takes another function as its argument and returns a modified version of that function\n",
    "\n",
    "def greet(fx):  #greet is a decorator which takes in function fx and returns mfx\n",
    "    def mfx():\n",
    "        print(\"hello\")\n",
    "        fx()\n",
    "        print(\"bye\")\n",
    "    return mfx\n",
    "\n",
    "#above written decorator can be used only for those functions which dont take any arguments.\n",
    "\n",
    "@greet #greet decorator is applied to function good.\n",
    "def good():\n",
    "    print(\"good morning\")\n",
    "    \n",
    "good() #so when good function is called -- greet decorator is applied to it and the mentioned changes are made.\n",
    "  \n",
    "    "
   ]
  },
  {
   "cell_type": "code",
   "execution_count": 186,
   "id": "40666c6a",
   "metadata": {},
   "outputs": [
    {
     "name": "stdout",
     "output_type": "stream",
     "text": [
      "good morning\n",
      "hello\n",
      "good morning\n",
      "bye\n"
     ]
    }
   ],
   "source": [
    "def greet(fx):  #greet is a decorator which takes in function fx and returns mfx\n",
    "    def mfx():\n",
    "        print(\"hello\")\n",
    "        fx()\n",
    "        print(\"bye\")\n",
    "    return mfx\n",
    "\n",
    "def good():\n",
    "    print(\"good morning\")\n",
    "    \n",
    "good()  #here -- normal good function will be called\n",
    "greet(good)() #here greet decorator is applied to good function "
   ]
  },
  {
   "cell_type": "code",
   "execution_count": 187,
   "id": "fd6e8af3",
   "metadata": {},
   "outputs": [
    {
     "name": "stdout",
     "output_type": "stream",
     "text": [
      "hello\n",
      "4\n",
      "bye\n"
     ]
    }
   ],
   "source": [
    "#decorator for functions which take in argument:\n",
    "\n",
    "def greet(fx):  #greet is a decorator which takes in function fx and returns mfx\n",
    "    def mfx(*args,**kwargs):  # (*args) - for tuples (**kwargs)-for dictionary\n",
    "        print(\"hello\")\n",
    "        fx(*args,**kwargs)\n",
    "        print(\"bye\")\n",
    "    return mfx\n",
    "\n",
    "def add(a,b):\n",
    "    print(a+b)\n",
    "    \n",
    "greet(add)(1,3)"
   ]
  },
  {
   "cell_type": "code",
   "execution_count": 188,
   "id": "988a5d38",
   "metadata": {},
   "outputs": [],
   "source": [
    "#getters and setters in python\n",
    "\n"
   ]
  },
  {
   "cell_type": "code",
   "execution_count": 189,
   "id": "4e2efde3",
   "metadata": {},
   "outputs": [
    {
     "name": "stdout",
     "output_type": "stream",
     "text": [
      "heyy\n",
      "harry,doctor\n",
      "heyy\n",
      "hello\n",
      "pranjal,hr\n"
     ]
    }
   ],
   "source": [
    "#inheritance in python:\n",
    "\n",
    "class Details:\n",
    "    def __init__(self,name,occ):\n",
    "        print(\"heyy\")\n",
    "        self.name=name\n",
    "        self.occ=occ\n",
    "        \n",
    "    def info(self):  #this is a method of class details\n",
    "        print(f\"{self.name},{self.occ}\")\n",
    "        \n",
    "class name(Details): #name class is derived from base class Details.\n",
    "    def show(self):\n",
    "        print(\"hello\")\n",
    "        \n",
    "e1=Details(\"harry\",\"doctor\")  #e1 object of class Details is created and hence it can access the methods and variables of only Details class\n",
    "e1.info()\n",
    "#e1.show()  -- will give an error\n",
    "\n",
    "e2=name(\"pranjal\",\"hr\")  #e2 object of class name is created and hence it can access the methods and variables of both the classes.\n",
    "#when e2 object of class name is created -- constructor of base class is called.\n",
    "e2.show()\n",
    "e2.info()\n",
    "\n",
    "#so always create an object of ultimate derived class\n",
    "\n",
    "#by default all the methods and variables declared in a class are public"
   ]
  },
  {
   "cell_type": "code",
   "execution_count": 193,
   "id": "afe4252d",
   "metadata": {},
   "outputs": [
    {
     "name": "stdout",
     "output_type": "stream",
     "text": [
      "harry\n",
      "doctor\n"
     ]
    }
   ],
   "source": [
    "#access modifiers in oops:\n",
    "'''\n",
    "public-- accesible everywhere in the whole program\n",
    "protected--accesible only to the class and its subclasses(by convention -it should be prefixed by single underscore)\n",
    "private--accesible only within the class(by convention -it should be prefixed by double underscore)\n",
    "'''\n",
    "\n",
    "class Details:\n",
    "    def __init__(self,name,occ):\n",
    "        self._name=name #protected variable\n",
    "        self.__occ=occ #private variable\n",
    "        \n",
    "obj=Details(\"harry\",\"doctor\")   \n",
    "print(obj._name) #this is accesible and hence will be printed\n",
    "# print(obj.__occ) #this is not accesible as occ variable is made private\n",
    "#so in order to access that we need to write:\n",
    "print(obj._Details__occ) #this is known as name mangling in python\n"
   ]
  },
  {
   "cell_type": "code",
   "execution_count": 196,
   "id": "d12cbe52",
   "metadata": {},
   "outputs": [
    {
     "name": "stdout",
     "output_type": "stream",
     "text": [
      "6\n",
      "9\n"
     ]
    }
   ],
   "source": [
    "#normal methods defined inside a class always need self argument to be passed \n",
    "\n",
    "class Math:\n",
    "    @staticmethod\n",
    "    def add(a,b):  #this method is made static by using staticmethod decorator and hence doesnt require self as an argument and \n",
    "                  # acts as a normal function inside a class and doesnt even require any object for that function to be called\n",
    "        return a+b\n",
    "    \n",
    "print(Math.add(2,4)) #without any object declaration --we can call this function.\n",
    "a=Math()\n",
    "print(a.add(2,7))"
   ]
  },
  {
   "cell_type": "code",
   "execution_count": 202,
   "id": "df1c4406",
   "metadata": {},
   "outputs": [
    {
     "name": "stdout",
     "output_type": "stream",
     "text": [
      "pranjal works in apple\n",
      "pranjal works in tesla\n",
      "apple\n"
     ]
    }
   ],
   "source": [
    "\n",
    "\n",
    "class Company:\n",
    "    company=\"apple\"\n",
    "    def show(self):\n",
    "        print(f\"{self.name} works in {self.company}\")\n",
    "              \n",
    "    def change(self,newcompany):  #this basically changes the company particularly for the given object obj.self==object is passed \n",
    "                                  #and hence company doesnt get changed for the whole class --it still remains apple\n",
    "              self.company=newcompany\n",
    "              \n",
    "obj=Company()  \n",
    "obj.name=\"pranjal\"              \n",
    "obj.show() \n",
    "obj.change(\"tesla\")             \n",
    "obj.show()\n",
    "print(Company.company) #this will print apple "
   ]
  },
  {
   "cell_type": "code",
   "execution_count": 203,
   "id": "f2b4f238",
   "metadata": {},
   "outputs": [
    {
     "name": "stdout",
     "output_type": "stream",
     "text": [
      "pranjal works in apple\n",
      "pranjal works in tesla\n",
      "tesla\n"
     ]
    }
   ],
   "source": [
    "#if we want to change company for the class as a whole then we have to use classmethod decorator\n",
    "\n",
    "class Company:\n",
    "    company=\"apple\"\n",
    "    def show(self):\n",
    "        print(f\"{self.name} works in {self.company}\")\n",
    "    @classmethod          \n",
    "    def change(self,newcompany):  #this basically changes the company for the whole class.self==class is passed \n",
    "                                  #and hence company get's changed for the whole class\n",
    "              self.company=newcompany\n",
    "              \n",
    "obj=Company()  \n",
    "obj.name=\"pranjal\"              \n",
    "obj.show() \n",
    "obj.change(\"tesla\")             \n",
    "obj.show()\n",
    "print(Company.company) #this will print tesla "
   ]
  },
  {
   "cell_type": "code",
   "execution_count": 205,
   "id": "ac6121ab",
   "metadata": {},
   "outputs": [
    {
     "data": {
      "text/plain": [
       "['harry', '12000']"
      ]
     },
     "execution_count": 205,
     "metadata": {},
     "output_type": "execute_result"
    }
   ],
   "source": [
    "string=\"harry-12000\"\n",
    "string.split(\"-\") #this returns a list "
   ]
  },
  {
   "cell_type": "code",
   "execution_count": 206,
   "id": "28b7e6b4",
   "metadata": {},
   "outputs": [
    {
     "name": "stdout",
     "output_type": "stream",
     "text": [
      "harry\n",
      "12000\n"
     ]
    }
   ],
   "source": [
    "class Person:\n",
    "    def __init__(self,name,salary):\n",
    "        self.name=name\n",
    "        self.salary=salary\n",
    "        \n",
    "# e1=Person(\"harry\",12000)\n",
    "# print(e1.name)\n",
    "# print(e1.salary)\n",
    "\n",
    "#Above code can also be written as follows:\n",
    "\n",
    "string=\"harry-12000\"\n",
    "e1=Person(string.split(\"-\")[0],string.split(\"-\")[1])\n",
    "print(e1.name)\n",
    "print(e1.salary)\n",
    "\n"
   ]
  },
  {
   "cell_type": "code",
   "execution_count": 207,
   "id": "815d0d4a",
   "metadata": {},
   "outputs": [
    {
     "name": "stdout",
     "output_type": "stream",
     "text": [
      "harry\n",
      "12000\n"
     ]
    }
   ],
   "source": [
    "#classmethod as alternative constructor : \n",
    "\n",
    "class Person:\n",
    "    def __init__(self,name,salary):\n",
    "        self.name=name\n",
    "        self.salary=salary\n",
    "    @classmethod\n",
    "    def fromstr(self,string):\n",
    "        return self(string.split(\"-\")[0],int(string.split(\"-\")[1]))\n",
    "\n",
    "string=\"harry-12000\"\n",
    "e1=Person.fromstr(string)\n",
    "print(e1.name)\n",
    "print(e1.salary)"
   ]
  },
  {
   "cell_type": "code",
   "execution_count": 208,
   "id": "e31ed353",
   "metadata": {},
   "outputs": [
    {
     "name": "stdout",
     "output_type": "stream",
     "text": [
      "['__add__', '__class__', '__class_getitem__', '__contains__', '__delattr__', '__delitem__', '__dir__', '__doc__', '__eq__', '__format__', '__ge__', '__getattribute__', '__getitem__', '__gt__', '__hash__', '__iadd__', '__imul__', '__init__', '__init_subclass__', '__iter__', '__le__', '__len__', '__lt__', '__mul__', '__ne__', '__new__', '__reduce__', '__reduce_ex__', '__repr__', '__reversed__', '__rmul__', '__setattr__', '__setitem__', '__sizeof__', '__str__', '__subclasshook__', 'append', 'clear', 'copy', 'count', 'extend', 'index', 'insert', 'pop', 'remove', 'reverse', 'sort']\n"
     ]
    }
   ],
   "source": [
    "x=[1,2,3]\n",
    "print(dir(x)) #this basically prints all the available methods,method wrappers associated with the object(in this case list)"
   ]
  },
  {
   "cell_type": "code",
   "execution_count": 209,
   "id": "0061e4e8",
   "metadata": {},
   "outputs": [
    {
     "name": "stdout",
     "output_type": "stream",
     "text": [
      "{'name': 'harry', 'salary': 12000}\n"
     ]
    }
   ],
   "source": [
    " #__dict__ method \n",
    "class Person:\n",
    "    def __init__(self,name,salary):\n",
    "        self.name=name\n",
    "        self.salary=salary\n",
    "        \n",
    "e1=Person(\"harry\",12000)\n",
    "print(e1.__dict__) #this creates a dictionary."
   ]
  },
  {
   "cell_type": "code",
   "execution_count": 210,
   "id": "61800020",
   "metadata": {},
   "outputs": [
    {
     "name": "stdout",
     "output_type": "stream",
     "text": [
      "Help on class str in module builtins:\n",
      "\n",
      "class str(object)\n",
      " |  str(object='') -> str\n",
      " |  str(bytes_or_buffer[, encoding[, errors]]) -> str\n",
      " |  \n",
      " |  Create a new string object from the given object. If encoding or\n",
      " |  errors is specified, then the object must expose a data buffer\n",
      " |  that will be decoded using the given encoding and error handler.\n",
      " |  Otherwise, returns the result of object.__str__() (if defined)\n",
      " |  or repr(object).\n",
      " |  encoding defaults to sys.getdefaultencoding().\n",
      " |  errors defaults to 'strict'.\n",
      " |  \n",
      " |  Methods defined here:\n",
      " |  \n",
      " |  __add__(self, value, /)\n",
      " |      Return self+value.\n",
      " |  \n",
      " |  __contains__(self, key, /)\n",
      " |      Return key in self.\n",
      " |  \n",
      " |  __eq__(self, value, /)\n",
      " |      Return self==value.\n",
      " |  \n",
      " |  __format__(self, format_spec, /)\n",
      " |      Return a formatted version of the string as described by format_spec.\n",
      " |  \n",
      " |  __ge__(self, value, /)\n",
      " |      Return self>=value.\n",
      " |  \n",
      " |  __getattribute__(self, name, /)\n",
      " |      Return getattr(self, name).\n",
      " |  \n",
      " |  __getitem__(self, key, /)\n",
      " |      Return self[key].\n",
      " |  \n",
      " |  __getnewargs__(...)\n",
      " |  \n",
      " |  __gt__(self, value, /)\n",
      " |      Return self>value.\n",
      " |  \n",
      " |  __hash__(self, /)\n",
      " |      Return hash(self).\n",
      " |  \n",
      " |  __iter__(self, /)\n",
      " |      Implement iter(self).\n",
      " |  \n",
      " |  __le__(self, value, /)\n",
      " |      Return self<=value.\n",
      " |  \n",
      " |  __len__(self, /)\n",
      " |      Return len(self).\n",
      " |  \n",
      " |  __lt__(self, value, /)\n",
      " |      Return self<value.\n",
      " |  \n",
      " |  __mod__(self, value, /)\n",
      " |      Return self%value.\n",
      " |  \n",
      " |  __mul__(self, value, /)\n",
      " |      Return self*value.\n",
      " |  \n",
      " |  __ne__(self, value, /)\n",
      " |      Return self!=value.\n",
      " |  \n",
      " |  __repr__(self, /)\n",
      " |      Return repr(self).\n",
      " |  \n",
      " |  __rmod__(self, value, /)\n",
      " |      Return value%self.\n",
      " |  \n",
      " |  __rmul__(self, value, /)\n",
      " |      Return value*self.\n",
      " |  \n",
      " |  __sizeof__(self, /)\n",
      " |      Return the size of the string in memory, in bytes.\n",
      " |  \n",
      " |  __str__(self, /)\n",
      " |      Return str(self).\n",
      " |  \n",
      " |  capitalize(self, /)\n",
      " |      Return a capitalized version of the string.\n",
      " |      \n",
      " |      More specifically, make the first character have upper case and the rest lower\n",
      " |      case.\n",
      " |  \n",
      " |  casefold(self, /)\n",
      " |      Return a version of the string suitable for caseless comparisons.\n",
      " |  \n",
      " |  center(self, width, fillchar=' ', /)\n",
      " |      Return a centered string of length width.\n",
      " |      \n",
      " |      Padding is done using the specified fill character (default is a space).\n",
      " |  \n",
      " |  count(...)\n",
      " |      S.count(sub[, start[, end]]) -> int\n",
      " |      \n",
      " |      Return the number of non-overlapping occurrences of substring sub in\n",
      " |      string S[start:end].  Optional arguments start and end are\n",
      " |      interpreted as in slice notation.\n",
      " |  \n",
      " |  encode(self, /, encoding='utf-8', errors='strict')\n",
      " |      Encode the string using the codec registered for encoding.\n",
      " |      \n",
      " |      encoding\n",
      " |        The encoding in which to encode the string.\n",
      " |      errors\n",
      " |        The error handling scheme to use for encoding errors.\n",
      " |        The default is 'strict' meaning that encoding errors raise a\n",
      " |        UnicodeEncodeError.  Other possible values are 'ignore', 'replace' and\n",
      " |        'xmlcharrefreplace' as well as any other name registered with\n",
      " |        codecs.register_error that can handle UnicodeEncodeErrors.\n",
      " |  \n",
      " |  endswith(...)\n",
      " |      S.endswith(suffix[, start[, end]]) -> bool\n",
      " |      \n",
      " |      Return True if S ends with the specified suffix, False otherwise.\n",
      " |      With optional start, test S beginning at that position.\n",
      " |      With optional end, stop comparing S at that position.\n",
      " |      suffix can also be a tuple of strings to try.\n",
      " |  \n",
      " |  expandtabs(self, /, tabsize=8)\n",
      " |      Return a copy where all tab characters are expanded using spaces.\n",
      " |      \n",
      " |      If tabsize is not given, a tab size of 8 characters is assumed.\n",
      " |  \n",
      " |  find(...)\n",
      " |      S.find(sub[, start[, end]]) -> int\n",
      " |      \n",
      " |      Return the lowest index in S where substring sub is found,\n",
      " |      such that sub is contained within S[start:end].  Optional\n",
      " |      arguments start and end are interpreted as in slice notation.\n",
      " |      \n",
      " |      Return -1 on failure.\n",
      " |  \n",
      " |  format(...)\n",
      " |      S.format(*args, **kwargs) -> str\n",
      " |      \n",
      " |      Return a formatted version of S, using substitutions from args and kwargs.\n",
      " |      The substitutions are identified by braces ('{' and '}').\n",
      " |  \n",
      " |  format_map(...)\n",
      " |      S.format_map(mapping) -> str\n",
      " |      \n",
      " |      Return a formatted version of S, using substitutions from mapping.\n",
      " |      The substitutions are identified by braces ('{' and '}').\n",
      " |  \n",
      " |  index(...)\n",
      " |      S.index(sub[, start[, end]]) -> int\n",
      " |      \n",
      " |      Return the lowest index in S where substring sub is found,\n",
      " |      such that sub is contained within S[start:end].  Optional\n",
      " |      arguments start and end are interpreted as in slice notation.\n",
      " |      \n",
      " |      Raises ValueError when the substring is not found.\n",
      " |  \n",
      " |  isalnum(self, /)\n",
      " |      Return True if the string is an alpha-numeric string, False otherwise.\n",
      " |      \n",
      " |      A string is alpha-numeric if all characters in the string are alpha-numeric and\n",
      " |      there is at least one character in the string.\n",
      " |  \n",
      " |  isalpha(self, /)\n",
      " |      Return True if the string is an alphabetic string, False otherwise.\n",
      " |      \n",
      " |      A string is alphabetic if all characters in the string are alphabetic and there\n",
      " |      is at least one character in the string.\n",
      " |  \n",
      " |  isascii(self, /)\n",
      " |      Return True if all characters in the string are ASCII, False otherwise.\n",
      " |      \n",
      " |      ASCII characters have code points in the range U+0000-U+007F.\n",
      " |      Empty string is ASCII too.\n",
      " |  \n",
      " |  isdecimal(self, /)\n",
      " |      Return True if the string is a decimal string, False otherwise.\n",
      " |      \n",
      " |      A string is a decimal string if all characters in the string are decimal and\n",
      " |      there is at least one character in the string.\n",
      " |  \n",
      " |  isdigit(self, /)\n",
      " |      Return True if the string is a digit string, False otherwise.\n",
      " |      \n",
      " |      A string is a digit string if all characters in the string are digits and there\n",
      " |      is at least one character in the string.\n",
      " |  \n",
      " |  isidentifier(self, /)\n",
      " |      Return True if the string is a valid Python identifier, False otherwise.\n",
      " |      \n",
      " |      Call keyword.iskeyword(s) to test whether string s is a reserved identifier,\n",
      " |      such as \"def\" or \"class\".\n",
      " |  \n",
      " |  islower(self, /)\n",
      " |      Return True if the string is a lowercase string, False otherwise.\n",
      " |      \n",
      " |      A string is lowercase if all cased characters in the string are lowercase and\n",
      " |      there is at least one cased character in the string.\n",
      " |  \n",
      " |  isnumeric(self, /)\n",
      " |      Return True if the string is a numeric string, False otherwise.\n",
      " |      \n",
      " |      A string is numeric if all characters in the string are numeric and there is at\n",
      " |      least one character in the string.\n",
      " |  \n",
      " |  isprintable(self, /)\n",
      " |      Return True if the string is printable, False otherwise.\n",
      " |      \n",
      " |      A string is printable if all of its characters are considered printable in\n",
      " |      repr() or if it is empty.\n",
      " |  \n",
      " |  isspace(self, /)\n",
      " |      Return True if the string is a whitespace string, False otherwise.\n",
      " |      \n",
      " |      A string is whitespace if all characters in the string are whitespace and there\n",
      " |      is at least one character in the string.\n",
      " |  \n",
      " |  istitle(self, /)\n",
      " |      Return True if the string is a title-cased string, False otherwise.\n",
      " |      \n",
      " |      In a title-cased string, upper- and title-case characters may only\n",
      " |      follow uncased characters and lowercase characters only cased ones.\n",
      " |  \n",
      " |  isupper(self, /)\n",
      " |      Return True if the string is an uppercase string, False otherwise.\n",
      " |      \n",
      " |      A string is uppercase if all cased characters in the string are uppercase and\n",
      " |      there is at least one cased character in the string.\n",
      " |  \n",
      " |  join(self, iterable, /)\n",
      " |      Concatenate any number of strings.\n",
      " |      \n",
      " |      The string whose method is called is inserted in between each given string.\n",
      " |      The result is returned as a new string.\n",
      " |      \n",
      " |      Example: '.'.join(['ab', 'pq', 'rs']) -> 'ab.pq.rs'\n",
      " |  \n",
      " |  ljust(self, width, fillchar=' ', /)\n",
      " |      Return a left-justified string of length width.\n",
      " |      \n",
      " |      Padding is done using the specified fill character (default is a space).\n",
      " |  \n",
      " |  lower(self, /)\n",
      " |      Return a copy of the string converted to lowercase.\n",
      " |  \n",
      " |  lstrip(self, chars=None, /)\n",
      " |      Return a copy of the string with leading whitespace removed.\n",
      " |      \n",
      " |      If chars is given and not None, remove characters in chars instead.\n",
      " |  \n",
      " |  partition(self, sep, /)\n",
      " |      Partition the string into three parts using the given separator.\n",
      " |      \n",
      " |      This will search for the separator in the string.  If the separator is found,\n",
      " |      returns a 3-tuple containing the part before the separator, the separator\n",
      " |      itself, and the part after it.\n",
      " |      \n",
      " |      If the separator is not found, returns a 3-tuple containing the original string\n",
      " |      and two empty strings.\n",
      " |  \n",
      " |  removeprefix(self, prefix, /)\n",
      " |      Return a str with the given prefix string removed if present.\n",
      " |      \n",
      " |      If the string starts with the prefix string, return string[len(prefix):].\n",
      " |      Otherwise, return a copy of the original string.\n",
      " |  \n",
      " |  removesuffix(self, suffix, /)\n",
      " |      Return a str with the given suffix string removed if present.\n",
      " |      \n",
      " |      If the string ends with the suffix string and that suffix is not empty,\n",
      " |      return string[:-len(suffix)]. Otherwise, return a copy of the original\n",
      " |      string.\n",
      " |  \n",
      " |  replace(self, old, new, count=-1, /)\n",
      " |      Return a copy with all occurrences of substring old replaced by new.\n",
      " |      \n",
      " |        count\n",
      " |          Maximum number of occurrences to replace.\n",
      " |          -1 (the default value) means replace all occurrences.\n",
      " |      \n",
      " |      If the optional argument count is given, only the first count occurrences are\n",
      " |      replaced.\n",
      " |  \n",
      " |  rfind(...)\n",
      " |      S.rfind(sub[, start[, end]]) -> int\n",
      " |      \n",
      " |      Return the highest index in S where substring sub is found,\n",
      " |      such that sub is contained within S[start:end].  Optional\n",
      " |      arguments start and end are interpreted as in slice notation.\n",
      " |      \n",
      " |      Return -1 on failure.\n",
      " |  \n",
      " |  rindex(...)\n",
      " |      S.rindex(sub[, start[, end]]) -> int\n",
      " |      \n",
      " |      Return the highest index in S where substring sub is found,\n",
      " |      such that sub is contained within S[start:end].  Optional\n",
      " |      arguments start and end are interpreted as in slice notation.\n",
      " |      \n",
      " |      Raises ValueError when the substring is not found.\n",
      " |  \n",
      " |  rjust(self, width, fillchar=' ', /)\n",
      " |      Return a right-justified string of length width.\n",
      " |      \n",
      " |      Padding is done using the specified fill character (default is a space).\n",
      " |  \n",
      " |  rpartition(self, sep, /)\n",
      " |      Partition the string into three parts using the given separator.\n",
      " |      \n",
      " |      This will search for the separator in the string, starting at the end. If\n",
      " |      the separator is found, returns a 3-tuple containing the part before the\n",
      " |      separator, the separator itself, and the part after it.\n",
      " |      \n",
      " |      If the separator is not found, returns a 3-tuple containing two empty strings\n",
      " |      and the original string.\n",
      " |  \n",
      " |  rsplit(self, /, sep=None, maxsplit=-1)\n",
      " |      Return a list of the substrings in the string, using sep as the separator string.\n",
      " |      \n",
      " |        sep\n",
      " |          The separator used to split the string.\n",
      " |      \n",
      " |          When set to None (the default value), will split on any whitespace\n",
      " |          character (including \\\\n \\\\r \\\\t \\\\f and spaces) and will discard\n",
      " |          empty strings from the result.\n",
      " |        maxsplit\n",
      " |          Maximum number of splits (starting from the left).\n",
      " |          -1 (the default value) means no limit.\n",
      " |      \n",
      " |      Splitting starts at the end of the string and works to the front.\n",
      " |  \n",
      " |  rstrip(self, chars=None, /)\n",
      " |      Return a copy of the string with trailing whitespace removed.\n",
      " |      \n",
      " |      If chars is given and not None, remove characters in chars instead.\n",
      " |  \n",
      " |  split(self, /, sep=None, maxsplit=-1)\n",
      " |      Return a list of the substrings in the string, using sep as the separator string.\n",
      " |      \n",
      " |        sep\n",
      " |          The separator used to split the string.\n",
      " |      \n",
      " |          When set to None (the default value), will split on any whitespace\n",
      " |          character (including \\\\n \\\\r \\\\t \\\\f and spaces) and will discard\n",
      " |          empty strings from the result.\n",
      " |        maxsplit\n",
      " |          Maximum number of splits (starting from the left).\n",
      " |          -1 (the default value) means no limit.\n",
      " |      \n",
      " |      Note, str.split() is mainly useful for data that has been intentionally\n",
      " |      delimited.  With natural text that includes punctuation, consider using\n",
      " |      the regular expression module.\n",
      " |  \n",
      " |  splitlines(self, /, keepends=False)\n",
      " |      Return a list of the lines in the string, breaking at line boundaries.\n",
      " |      \n",
      " |      Line breaks are not included in the resulting list unless keepends is given and\n",
      " |      true.\n",
      " |  \n",
      " |  startswith(...)\n",
      " |      S.startswith(prefix[, start[, end]]) -> bool\n",
      " |      \n",
      " |      Return True if S starts with the specified prefix, False otherwise.\n",
      " |      With optional start, test S beginning at that position.\n",
      " |      With optional end, stop comparing S at that position.\n",
      " |      prefix can also be a tuple of strings to try.\n",
      " |  \n",
      " |  strip(self, chars=None, /)\n",
      " |      Return a copy of the string with leading and trailing whitespace removed.\n",
      " |      \n",
      " |      If chars is given and not None, remove characters in chars instead.\n",
      " |  \n",
      " |  swapcase(self, /)\n",
      " |      Convert uppercase characters to lowercase and lowercase characters to uppercase.\n",
      " |  \n",
      " |  title(self, /)\n",
      " |      Return a version of the string where each word is titlecased.\n",
      " |      \n",
      " |      More specifically, words start with uppercased characters and all remaining\n",
      " |      cased characters have lower case.\n",
      " |  \n",
      " |  translate(self, table, /)\n",
      " |      Replace each character in the string using the given translation table.\n",
      " |      \n",
      " |        table\n",
      " |          Translation table, which must be a mapping of Unicode ordinals to\n",
      " |          Unicode ordinals, strings, or None.\n",
      " |      \n",
      " |      The table must implement lookup/indexing via __getitem__, for instance a\n",
      " |      dictionary or list.  If this operation raises LookupError, the character is\n",
      " |      left untouched.  Characters mapped to None are deleted.\n",
      " |  \n",
      " |  upper(self, /)\n",
      " |      Return a copy of the string converted to uppercase.\n",
      " |  \n",
      " |  zfill(self, width, /)\n",
      " |      Pad a numeric string with zeros on the left, to fill a field of the given width.\n",
      " |      \n",
      " |      The string is never truncated.\n",
      " |  \n",
      " |  ----------------------------------------------------------------------\n",
      " |  Static methods defined here:\n",
      " |  \n",
      " |  __new__(*args, **kwargs) from builtins.type\n",
      " |      Create and return a new object.  See help(type) for accurate signature.\n",
      " |  \n",
      " |  maketrans(...)\n",
      " |      Return a translation table usable for str.translate().\n",
      " |      \n",
      " |      If there is only one argument, it must be a dictionary mapping Unicode\n",
      " |      ordinals (integers) or characters to Unicode ordinals, strings or None.\n",
      " |      Character keys will be then converted to ordinals.\n",
      " |      If there are two arguments, they must be strings of equal length, and\n",
      " |      in the resulting dictionary, each character in x will be mapped to the\n",
      " |      character at the same position in y. If there is a third argument, it\n",
      " |      must be a string, whose characters will be mapped to None in the result.\n",
      "\n"
     ]
    }
   ],
   "source": [
    "help(str) #help method is used to get the python documentation of that object"
   ]
  },
  {
   "cell_type": "code",
   "execution_count": null,
   "id": "fcb8530b",
   "metadata": {},
   "outputs": [],
   "source": [
    "#super keyword in python:\n",
    "\n"
   ]
  }
 ],
 "metadata": {
  "kernelspec": {
   "display_name": "Python 3 (ipykernel)",
   "language": "python",
   "name": "python3"
  },
  "language_info": {
   "codemirror_mode": {
    "name": "ipython",
    "version": 3
   },
   "file_extension": ".py",
   "mimetype": "text/x-python",
   "name": "python",
   "nbconvert_exporter": "python",
   "pygments_lexer": "ipython3",
   "version": "3.10.9"
  }
 },
 "nbformat": 4,
 "nbformat_minor": 5
}
